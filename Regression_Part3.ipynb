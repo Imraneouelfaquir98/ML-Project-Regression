{
 "cells": [
  {
   "cell_type": "markdown",
   "metadata": {},
   "source": [
    "# Part 3"
   ]
  },
  {
   "cell_type": "code",
   "execution_count": 491,
   "metadata": {},
   "outputs": [],
   "source": [
    "import pandas as pd\n",
    "import numpy as np\n",
    "import matplotlib.pyplot as plt\n",
    "import csv"
   ]
  },
  {
   "cell_type": "markdown",
   "metadata": {},
   "source": [
    "# Loading and splitting Dataset"
   ]
  },
  {
   "cell_type": "code",
   "execution_count": 600,
   "metadata": {},
   "outputs": [],
   "source": [
    "# Loading Dataset\n",
    "url = \"Part1_data12.csv\"\n",
    "dataset = pd.read_csv(url)"
   ]
  },
  {
   "cell_type": "markdown",
   "metadata": {},
   "source": [
    "# Normalization of the Dataset"
   ]
  },
  {
   "cell_type": "code",
   "execution_count": 601,
   "metadata": {},
   "outputs": [],
   "source": [
    "def normalization(d_set):\n",
    "    sigma   = np.sqrt(d_set['y'].var())\n",
    "    average = d_set['y'].mean()\n",
    "\n",
    "    for i in range(len(d_set)):\n",
    "        d_set['y'][i] = (d_set['y'][i] - average)/sigma\n",
    "    return d_set"
   ]
  },
  {
   "cell_type": "markdown",
   "metadata": {},
   "source": [
    "Transformation fo y_norm to [0, 1]"
   ]
  },
  {
   "cell_type": "code",
   "execution_count": 602,
   "metadata": {},
   "outputs": [],
   "source": [
    "def transform(y_trans):\n",
    "    max_y = y_trans['y'].max()\n",
    "    min_y = y_trans['y'].min()\n",
    "    for i in range(len(y_trans)):\n",
    "        y_trans['y'][i] = ( y_trans['y'][i] - min_y)/(max_y - min_y)\n",
    "    return y_trans"
   ]
  },
  {
   "cell_type": "markdown",
   "metadata": {},
   "source": [
    "# Randomly mix the dataset by the function simple"
   ]
  },
  {
   "cell_type": "code",
   "execution_count": 603,
   "metadata": {},
   "outputs": [],
   "source": [
    "dataframe = pd.DataFrame(dataset)\n",
    "dataframe_mixed = dataframe.sample(frac=1)\n",
    "# dataframe_mixed"
   ]
  },
  {
   "cell_type": "markdown",
   "metadata": {},
   "source": [
    "# We take 70% as a training data and 30% as a testing data"
   ]
  },
  {
   "cell_type": "code",
   "execution_count": 604,
   "metadata": {},
   "outputs": [],
   "source": [
    "dataframe_mixed[:int(len(dataframe)*0.7)].to_csv(r'training_dataset_part2.csv', index=False, header=True)\n",
    "\n",
    "dataframe_mixed[int(len(dataframe)*0.7):len(dataframe)].to_csv(r'testing_dataset_part2.csv'  , index=False, header=True)\n"
   ]
  },
  {
   "cell_type": "markdown",
   "metadata": {},
   "source": [
    "#  Read and visualize the given data."
   ]
  },
  {
   "cell_type": "code",
   "execution_count": 605,
   "metadata": {},
   "outputs": [],
   "source": [
    "training_dataset_url = \"training_dataset_part2.csv\"\n",
    "testing_dataset_url  = \"testing_dataset_part2.csv\"\n",
    "\n",
    "training_dataset = pd.read_csv(training_dataset_url)\n",
    "testing_dataset  = pd.read_csv(testing_dataset_url)\n",
    "\n",
    "norm_train_dset  = pd.read_csv(training_dataset_url)\n",
    "norm_test_dset   = pd.read_csv(testing_dataset_url)"
   ]
  },
  {
   "cell_type": "markdown",
   "metadata": {},
   "source": [
    "# Normalization and transformation to 0 1 of the training dataset's labels"
   ]
  },
  {
   "cell_type": "markdown",
   "metadata": {},
   "source": [
    "Normalization"
   ]
  },
  {
   "cell_type": "code",
   "execution_count": 618,
   "metadata": {},
   "outputs": [],
   "source": [
    "norm_train_dset = normalization(norm_train_dset)\n",
    "norm_test_dset  = normalization(norm_test_dset)"
   ]
  },
  {
   "cell_type": "markdown",
   "metadata": {},
   "source": [
    "Transofmation of dataset domaine to [0, 1] domaine"
   ]
  },
  {
   "cell_type": "code",
   "execution_count": 619,
   "metadata": {},
   "outputs": [],
   "source": [
    "norm_train_dset = transform(norm_train_dset)\n",
    "norm_test_dset  = transform(norm_test_dset)"
   ]
  },
  {
   "cell_type": "markdown",
   "metadata": {},
   "source": [
    "The function h recovery of the original value of y"
   ]
  },
  {
   "cell_type": "code",
   "execution_count": 608,
   "metadata": {},
   "outputs": [],
   "source": [
    "def h(y):\n",
    "    max_y  = training_dataset['y'].max()\n",
    "    min_y  = training_dataset['y'].min()\n",
    "    sigma  = np.sqrt(dataset['y'].var())\n",
    "    mean_y = dataset['y'].mean()\n",
    "#     return sigma*((max_y-min_y)*y + min_y) + mean_y\n",
    "    return (max_y-min_y)*y + min_y"
   ]
  },
  {
   "cell_type": "markdown",
   "metadata": {},
   "source": [
    "# Sigmoid Function"
   ]
  },
  {
   "cell_type": "code",
   "execution_count": 609,
   "metadata": {},
   "outputs": [],
   "source": [
    "def segmoid(w, x):\n",
    "    return 1/(1 + np.exp(-np.matmul(w,x)))"
   ]
  },
  {
   "cell_type": "markdown",
   "metadata": {},
   "source": [
    "# The empirical error"
   ]
  },
  {
   "cell_type": "code",
   "execution_count": 610,
   "metadata": {},
   "outputs": [],
   "source": [
    "# The empirical error MSE\n",
    "def MSE(w,d_set):\n",
    "    MSE = 0\n",
    "    for i in range(len(d_set)):\n",
    "        MSE = MSE + pow(d_set['y'][i] - segmoid(w, [1, d_set['x'][i]]),2)\n",
    "    return MSE/len(d_set)"
   ]
  },
  {
   "cell_type": "markdown",
   "metadata": {},
   "source": [
    "# Armijo learning rate"
   ]
  },
  {
   "cell_type": "code",
   "execution_count": 611,
   "metadata": {},
   "outputs": [],
   "source": [
    "# Calculation of the step Armijo\n",
    "def armijo(wk, dk, d_set, empiricalError = MSE):\n",
    "    alpha = 1\n",
    "    X = 0.25*alpha*np.matmul(gradient(wk, d_set,empiricalError), dk)\n",
    "    while empiricalError(np.add(wk, np.multiply(alpha,dk)), d_set) - empiricalError(wk, d_set) > X:\n",
    "        alpha = alpha/4\n",
    "        X = 0.25*alpha*np.matmul(gradient(wk, d_set,empiricalError), dk)\n",
    "    return alpha"
   ]
  },
  {
   "cell_type": "markdown",
   "metadata": {},
   "source": [
    "# Gradient"
   ]
  },
  {
   "cell_type": "code",
   "execution_count": 612,
   "metadata": {},
   "outputs": [],
   "source": [
    "# Calculation of the gradient\n",
    "def gradient(w, d_set, empiricalError = MSE):\n",
    "    grad = []\n",
    "    wi = [float(0) for i in range(len(w))]\n",
    "    for i in range(len(w)):\n",
    "        for k in range(len(w)):\n",
    "            wi[k] = w[k]\n",
    "        wi[i] = wi[i] + 1e-10\n",
    "        grad.append((empiricalError(wi,d_set) - empiricalError(w,d_set))/1e-10)\n",
    "    return grad"
   ]
  },
  {
   "cell_type": "markdown",
   "metadata": {},
   "source": [
    "# Gradient Descent Method"
   ]
  },
  {
   "cell_type": "code",
   "execution_count": 613,
   "metadata": {},
   "outputs": [],
   "source": [
    "# Gradient descent method\n",
    "def gradientDescent(delta, wk, d_set, armij=False,alpha=0,empiricalError=MSE):\n",
    "    gk = np.multiply(-1,gradient(wk, d_set, empiricalError))\n",
    "    k = 0\n",
    "    while np.linalg.norm(gk)>delta:\n",
    "        if k>100:\n",
    "            break\n",
    "        print(\"k = {0:d}, norm = {1:.4f}, MSE = {1:.2f}\".format(k,np.linalg.norm(gk),empiricalError(wk,d_set)))\n",
    "        if armij == True:\n",
    "            alpha = armijo(wk,gk, d_set)\n",
    "        wk = np.add(wk, np.multiply(alpha,gk))\n",
    "        gk = np.multiply(-1,gradient(wk, d_set, empiricalError))\n",
    "        k = k+1\n",
    "    return wk"
   ]
  },
  {
   "cell_type": "code",
   "execution_count": 614,
   "metadata": {},
   "outputs": [],
   "source": [
    "# Plotting the training dataset with hypotesis function\n",
    "def plot_h(w,df):\n",
    "    plt.scatter(df['x'], df['y'], c = 'red', marker = '*')\n",
    "    x   = []\n",
    "    h_x = []\n",
    "    k = int(df['x'].min())-1\n",
    "    while int(df['x'].max())+2>k : \n",
    "        x.append(k)\n",
    "        h_x.append(h(segmoid(w,[1,k])))\n",
    "        k = k + 0.5\n",
    "    plt.plot(x, h_x, linewidth=4)"
   ]
  },
  {
   "cell_type": "code",
   "execution_count": 615,
   "metadata": {},
   "outputs": [
    {
     "name": "stdout",
     "output_type": "stream",
     "text": [
      "k = 0, norm = 0.2231, MSE = 0.22\n",
      "k = 1, norm = 0.0296, MSE = 0.03\n",
      "k = 2, norm = 0.0033, MSE = 0.00\n",
      "k = 3, norm = 0.0140, MSE = 0.01\n",
      "k = 4, norm = 0.0032, MSE = 0.00\n",
      "k = 5, norm = 0.0084, MSE = 0.01\n",
      "k = 6, norm = 0.0031, MSE = 0.00\n",
      "k = 7, norm = 0.0056, MSE = 0.01\n",
      "k = 8, norm = 0.0030, MSE = 0.00\n",
      "k = 9, norm = 0.0041, MSE = 0.00\n",
      "k = 10, norm = 0.0030, MSE = 0.00\n",
      "k = 11, norm = 0.0034, MSE = 0.00\n",
      "k = 12, norm = 0.0062, MSE = 0.01\n",
      "k = 13, norm = 0.0030, MSE = 0.00\n",
      "k = 14, norm = 0.0046, MSE = 0.00\n",
      "k = 15, norm = 0.0029, MSE = 0.00\n",
      "k = 16, norm = 0.0036, MSE = 0.00\n",
      "k = 17, norm = 0.0073, MSE = 0.01\n",
      "k = 18, norm = 0.0029, MSE = 0.00\n",
      "k = 19, norm = 0.0045, MSE = 0.00\n",
      "k = 20, norm = 0.0028, MSE = 0.00\n",
      "k = 21, norm = 0.0033, MSE = 0.00\n",
      "k = 22, norm = 0.0063, MSE = 0.01\n",
      "k = 23, norm = 0.0028, MSE = 0.00\n",
      "k = 24, norm = 0.0043, MSE = 0.00\n",
      "k = 25, norm = 0.0028, MSE = 0.00\n",
      "k = 26, norm = 0.0032, MSE = 0.00\n",
      "k = 27, norm = 0.0061, MSE = 0.01\n",
      "k = 28, norm = 0.0027, MSE = 0.00\n",
      "k = 29, norm = 0.0036, MSE = 0.00\n",
      "k = 30, norm = 0.0027, MSE = 0.00\n",
      "k = 31, norm = 0.0029, MSE = 0.00\n",
      "k = 32, norm = 0.0044, MSE = 0.00\n",
      "k = 33, norm = 0.0026, MSE = 0.00\n",
      "k = 34, norm = 0.0031, MSE = 0.00\n",
      "k = 35, norm = 0.0059, MSE = 0.01\n",
      "k = 36, norm = 0.0026, MSE = 0.00\n",
      "k = 37, norm = 0.0033, MSE = 0.00\n",
      "k = 38, norm = 0.0026, MSE = 0.00\n",
      "k = 39, norm = 0.0027, MSE = 0.00\n",
      "k = 40, norm = 0.0037, MSE = 0.00\n",
      "k = 41, norm = 0.0025, MSE = 0.00\n",
      "k = 42, norm = 0.0027, MSE = 0.00\n",
      "k = 43, norm = 0.0043, MSE = 0.00\n",
      "k = 44, norm = 0.0025, MSE = 0.00\n",
      "k = 45, norm = 0.0028, MSE = 0.00\n",
      "k = 46, norm = 0.0046, MSE = 0.00\n",
      "k = 47, norm = 0.0025, MSE = 0.00\n",
      "k = 48, norm = 0.0029, MSE = 0.00\n",
      "k = 49, norm = 0.0054, MSE = 0.01\n",
      "k = 50, norm = 0.0024, MSE = 0.00\n",
      "k = 51, norm = 0.0028, MSE = 0.00\n",
      "k = 52, norm = 0.0052, MSE = 0.01\n",
      "k = 53, norm = 0.0024, MSE = 0.00\n",
      "k = 54, norm = 0.0029, MSE = 0.00\n",
      "k = 55, norm = 0.0058, MSE = 0.01\n",
      "k = 56, norm = 0.0024, MSE = 0.00\n",
      "k = 57, norm = 0.0028, MSE = 0.00\n",
      "k = 58, norm = 0.0051, MSE = 0.01\n",
      "k = 59, norm = 0.0023, MSE = 0.00\n",
      "k = 60, norm = 0.0028, MSE = 0.00\n",
      "k = 61, norm = 0.0052, MSE = 0.01\n",
      "k = 62, norm = 0.0023, MSE = 0.00\n",
      "k = 63, norm = 0.0026, MSE = 0.00\n",
      "k = 64, norm = 0.0043, MSE = 0.00\n",
      "k = 65, norm = 0.0023, MSE = 0.00\n",
      "k = 66, norm = 0.0025, MSE = 0.00\n",
      "k = 67, norm = 0.0040, MSE = 0.00\n",
      "k = 68, norm = 0.0022, MSE = 0.00\n",
      "k = 69, norm = 0.0023, MSE = 0.00\n",
      "k = 70, norm = 0.0032, MSE = 0.00\n",
      "k = 71, norm = 0.0022, MSE = 0.00\n",
      "k = 72, norm = 0.0022, MSE = 0.00\n",
      "k = 73, norm = 0.0093, MSE = 0.01\n",
      "k = 74, norm = 0.0021, MSE = 0.00\n",
      "k = 75, norm = 0.0025, MSE = 0.00\n",
      "k = 76, norm = 0.0045, MSE = 0.00\n",
      "k = 77, norm = 0.0021, MSE = 0.00\n",
      "k = 78, norm = 0.0023, MSE = 0.00\n",
      "k = 79, norm = 0.0035, MSE = 0.00\n",
      "k = 80, norm = 0.0021, MSE = 0.00\n",
      "k = 81, norm = 0.0021, MSE = 0.00\n",
      "k = 82, norm = 0.0074, MSE = 0.01\n",
      "k = 83, norm = 0.0020, MSE = 0.00\n",
      "k = 84, norm = 0.0025, MSE = 0.00\n",
      "k = 85, norm = 0.0020, MSE = 0.00\n",
      "k = 86, norm = 0.0020, MSE = 0.00\n",
      "k = 87, norm = 0.0044, MSE = 0.00\n",
      "k = 88, norm = 0.0020, MSE = 0.00\n",
      "k = 89, norm = 0.0020, MSE = 0.00\n",
      "k = 90, norm = 0.0063, MSE = 0.01\n",
      "k = 91, norm = 0.0019, MSE = 0.00\n",
      "k = 92, norm = 0.0021, MSE = 0.00\n",
      "k = 93, norm = 0.0034, MSE = 0.00\n",
      "k = 94, norm = 0.0019, MSE = 0.00\n",
      "k = 95, norm = 0.0019, MSE = 0.00\n",
      "k = 96, norm = 0.0038, MSE = 0.00\n",
      "k = 97, norm = 0.0019, MSE = 0.00\n",
      "k = 98, norm = 0.0019, MSE = 0.00\n",
      "k = 99, norm = 0.0054, MSE = 0.01\n",
      "k = 100, norm = 0.0018, MSE = 0.00\n"
     ]
    }
   ],
   "source": [
    "w_optim = gradientDescent(0.001, [-2.17888238,  0.15607655], norm_train_dset, armij=True)"
   ]
  },
  {
   "cell_type": "code",
   "execution_count": 616,
   "metadata": {},
   "outputs": [
    {
     "data": {
      "text/plain": [
       "array([-2.29936248,  0.17631301])"
      ]
     },
     "execution_count": 616,
     "metadata": {},
     "output_type": "execute_result"
    }
   ],
   "source": [
    "w_optim"
   ]
  },
  {
   "cell_type": "code",
   "execution_count": 617,
   "metadata": {},
   "outputs": [
    {
     "data": {
      "image/png": "[encoded data removed]",
      "text/plain": [
       "<Figure size 432x288 with 1 Axes>"
      ]
     },
     "metadata": {
      "needs_background": "light"
     },
     "output_type": "display_data"
    }
   ],
   "source": [
    "plot_h(w_optim,training_dataset)"
   ]
  },
  {
   "cell_type": "code",
   "execution_count": 620,
   "metadata": {},
   "outputs": [
    {
     "name": "stdout",
     "output_type": "stream",
     "text": [
      "MSE = 0.0044\n"
     ]
    }
   ],
   "source": [
    "EmpiricalError= MSE(w_optim, norm_test_dset)\n",
    "print(\"MSE = {0:.4f}\".format(EmpiricalError))"
   ]
  },
  {
   "cell_type": "code",
   "execution_count": 628,
   "metadata": {},
   "outputs": [
    {
     "data": {
      "text/plain": [
       "10.88283213008454"
      ]
     },
     "execution_count": 628,
     "metadata": {},
     "output_type": "execute_result"
    }
   ],
   "source": [
    "EpiricalError = float(0)\n",
    "for i in range(len(testing_dataset)):\n",
    "    EpiricalError = EpiricalError + pow((testing_dataset['y'][i] - h(segmoid(w_optim,[1,testing_dataset['x'][i]]))),2)\n",
    "EpiricalError/len(testing_dataset)"
   ]
  },
  {
   "cell_type": "code",
   "execution_count": null,
   "metadata": {},
   "outputs": [],
   "source": []
  }
 ],
 "metadata": {
  "kernelspec": {
   "display_name": "Python 3",
   "language": "python",
   "name": "python3"
  },
  "language_info": {
   "codemirror_mode": {
    "name": "ipython",
    "version": 3
   },
   "file_extension": ".py",
   "mimetype": "text/x-python",
   "name": "python",
   "nbconvert_exporter": "python",
   "pygments_lexer": "ipython3",
   "version": "3.8.5"
  }
 },
 "nbformat": 4,
 "nbformat_minor": 4
}
