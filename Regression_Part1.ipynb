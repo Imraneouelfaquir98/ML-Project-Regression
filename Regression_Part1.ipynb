{
 "cells": [
  {
   "cell_type": "markdown",
   "metadata": {},
   "source": [
    "# Machine learning Project of Regression"
   ]
  },
  {
   "cell_type": "markdown",
   "metadata": {},
   "source": [
    "# Part 1:"
   ]
  },
  {
   "cell_type": "code",
   "execution_count": 398,
   "metadata": {},
   "outputs": [],
   "source": [
    "import pandas as pd\n",
    "import numpy as np\n",
    "import matplotlib.pyplot as plt\n",
    "import csv\n",
    "import random"
   ]
  },
  {
   "cell_type": "markdown",
   "metadata": {},
   "source": [
    "# Loading and splitting Dataset "
   ]
  },
  {
   "cell_type": "code",
   "execution_count": 399,
   "metadata": {},
   "outputs": [],
   "source": [
    "# Loading Dataset\n",
    "url = \"Part1_data12.csv\"\n",
    "dataset = pd.read_csv(url)"
   ]
  },
  {
   "cell_type": "code",
   "execution_count": 400,
   "metadata": {},
   "outputs": [
    {
     "name": "stdout",
     "output_type": "stream",
     "text": [
      "Dimension = 220*2\n"
     ]
    }
   ],
   "source": [
    "#Shape : Dimensions of the dataset\n",
    "print(\"Dimension = {0:d}*{1:d}\".format(dataset.shape[0],dataset.shape[1]))"
   ]
  },
  {
   "cell_type": "markdown",
   "metadata": {},
   "source": [
    "# Randomly mix the dataset by the function simple"
   ]
  },
  {
   "cell_type": "code",
   "execution_count": 401,
   "metadata": {},
   "outputs": [],
   "source": [
    "dataframe = pd.DataFrame(dataset)\n",
    "dataframe_mixed = dataframe.sample(frac=1)\n",
    "# dataframe_mixed"
   ]
  },
  {
   "cell_type": "markdown",
   "metadata": {},
   "source": [
    "# We take 70% as a training data and 30% as a testing data"
   ]
  },
  {
   "cell_type": "code",
   "execution_count": 402,
   "metadata": {},
   "outputs": [],
   "source": [
    "training_dataset_df = dataframe_mixed[:int(len(dataframe)*0.7)]\n",
    "# training_dataset\n",
    "\n",
    "testing_dataset_df  = dataframe_mixed[int(len(dataframe)*0.7):len(dataframe)]\n",
    "# testing_dataset"
   ]
  },
  {
   "cell_type": "code",
   "execution_count": 403,
   "metadata": {},
   "outputs": [],
   "source": [
    "# Saving training and testing dataset to a cqsv files\n",
    "training_dataset_df.to_csv(r'training_dataset.csv', index=False, header=True)\n",
    "testing_dataset_df.to_csv(r'testing_dataset.csv'  , index=False, header=True)"
   ]
  },
  {
   "cell_type": "markdown",
   "metadata": {},
   "source": [
    "# Question 1 Read and visualize the given data."
   ]
  },
  {
   "cell_type": "code",
   "execution_count": 404,
   "metadata": {},
   "outputs": [],
   "source": [
    "training_dataset_url = \"training_dataset.csv\"\n",
    "testing_dataset_url  = \"testing_dataset.csv\"\n",
    "\n",
    "training_dataset = pd.read_csv(training_dataset_url)\n",
    "testing_dataset  = pd.read_csv(testing_dataset_url)"
   ]
  },
  {
   "cell_type": "markdown",
   "metadata": {},
   "source": [
    "# Give the mean/median/min/max for each feature."
   ]
  },
  {
   "cell_type": "code",
   "execution_count": 9,
   "metadata": {},
   "outputs": [
    {
     "name": "stdout",
     "output_type": "stream",
     "text": [
      "mean(x) = 12.95\n",
      "median(x) = 12.95\n",
      "max(x) = 23.90\n",
      "min(x) = 2.00\n"
     ]
    }
   ],
   "source": [
    "# Calculation of the mean of x\n",
    "print(\"mean(x) = {:.2f}\".format(float(pd.DataFrame(dataset['x']).mean())))\n",
    "\n",
    "# Calculation of the median of x\n",
    "print(\"median(x) = {:.2f}\".format(float(pd.DataFrame(dataset['x']).median())))\n",
    "\n",
    "# Calculation of the max of x\n",
    "print(\"max(x) = {:.2f}\".format(float(pd.DataFrame(dataset['x']).max())))\n",
    "\n",
    "# Calculation of the min of x\n",
    "print(\"min(x) = {:.2f}\".format(float(pd.DataFrame(dataset['x']).min())))"
   ]
  },
  {
   "cell_type": "markdown",
   "metadata": {},
   "source": [
    "# Question2: Use scatter plot to represent your training dataset."
   ]
  },
  {
   "cell_type": "code",
   "execution_count": 10,
   "metadata": {},
   "outputs": [
    {
     "data": {
      "text/plain": [
       "<matplotlib.collections.PathCollection at 0x7f7a74e11af0>"
      ]
     },
     "execution_count": 10,
     "metadata": {},
     "output_type": "execute_result"
    },
    {
     "data": {
      "image/png": "[encoded data removed]",
      "text/plain": [
       "<Figure size 432x288 with 1 Axes>"
      ]
     },
     "metadata": {
      "needs_background": "light"
     },
     "output_type": "display_data"
    }
   ],
   "source": [
    "# Plotting the training dataset\n",
    "plt.scatter(training_dataset['x'], training_dataset['y'], c = 'red', marker = '*')"
   ]
  },
  {
   "cell_type": "code",
   "execution_count": 406,
   "metadata": {},
   "outputs": [],
   "source": [
    "# Plotting the training dataset with hypotesis function\n",
    "def plot_h(w,df):\n",
    "    plt.scatter(df['x'], df['y'], c = 'red', marker = '*')\n",
    "    plt.plot([df['x'].min(),df['x'].max()],[h(df['x'].min(),w),h(df['x'].max(),w)], linewidth=4)"
   ]
  },
  {
   "cell_type": "markdown",
   "metadata": {},
   "source": [
    "# Question5:"
   ]
  },
  {
   "cell_type": "markdown",
   "metadata": {},
   "source": [
    "# The hypothesis function. "
   ]
  },
  {
   "cell_type": "code",
   "execution_count": 394,
   "metadata": {},
   "outputs": [],
   "source": [
    "# The hypothesis function. \n",
    "def h(x,w):\n",
    "    return w[1]*x + w[0]"
   ]
  },
  {
   "cell_type": "markdown",
   "metadata": {},
   "source": [
    "# The empirical error"
   ]
  },
  {
   "cell_type": "markdown",
   "metadata": {},
   "source": [
    "# Mean Squared Error(MSE)"
   ]
  },
  {
   "cell_type": "code",
   "execution_count": 387,
   "metadata": {},
   "outputs": [],
   "source": [
    "# The empirical error MSE\n",
    "def MSE(w,d_set):\n",
    "    MSE = 0\n",
    "    for i in range(len(d_set)):\n",
    "        MSE = MSE + pow((d_set['y'][i] - h(d_set['x'][i],w)),2)\n",
    "    return MSE/len(d_set)"
   ]
  },
  {
   "cell_type": "markdown",
   "metadata": {},
   "source": [
    "# Root-Mean-Squared-Error(RMSE)."
   ]
  },
  {
   "cell_type": "code",
   "execution_count": 388,
   "metadata": {},
   "outputs": [],
   "source": [
    "# The empirical error RMSE\n",
    "def RMSE(w,d_set):\n",
    "    return np.sqrt(MSE(w,d_set))"
   ]
  },
  {
   "cell_type": "markdown",
   "metadata": {},
   "source": [
    "# Mean-Absolute-Error(MAE)."
   ]
  },
  {
   "cell_type": "code",
   "execution_count": 389,
   "metadata": {},
   "outputs": [],
   "source": [
    "# The empirical error MAE\n",
    "def MAE(w,d_set):\n",
    "    MAE = float(0)\n",
    "    for i in range(len(d_set)):\n",
    "        MAE = MAE + np.abs((d_set['y'][i] - h(d_set['x'][i],w)))\n",
    "    return MAE/len(d_set)"
   ]
  },
  {
   "cell_type": "markdown",
   "metadata": {},
   "source": [
    "# Gradient"
   ]
  },
  {
   "cell_type": "code",
   "execution_count": 390,
   "metadata": {},
   "outputs": [],
   "source": [
    "# Calculation of the gradient\n",
    "def gradient(w, d_set, empiricalError = MSE):\n",
    "    grad = []\n",
    "    wi = [float(0) for i in range(len(w))]\n",
    "    for i in range(len(w)):\n",
    "        for k in range(len(w)):\n",
    "            wi[k] = w[k]\n",
    "        wi[i] = wi[i] + 1e-10\n",
    "        grad.append((empiricalError(wi,d_set) - empiricalError(w,d_set))/1e-10)\n",
    "    return grad"
   ]
  },
  {
   "cell_type": "markdown",
   "metadata": {},
   "source": [
    "# Armijo's learning rate"
   ]
  },
  {
   "cell_type": "code",
   "execution_count": 391,
   "metadata": {},
   "outputs": [],
   "source": [
    "# Calculation of the step Armijo\n",
    "def armijo(wk, dk, d_set, empiricalError = MSE):\n",
    "    alpha = 1\n",
    "    X = 0.25*alpha*np.matmul(gradient(wk, d_set,empiricalError), dk)\n",
    "    while empiricalError(np.add(wk, np.multiply(alpha,dk)), d_set) - empiricalError(wk, d_set) > X:\n",
    "        alpha = alpha/2\n",
    "        X = 0.25*alpha*np.matmul(gradient(wk, d_set,empiricalError), dk)\n",
    "    return alpha"
   ]
  },
  {
   "cell_type": "markdown",
   "metadata": {},
   "source": [
    "# Gradient Descent Method"
   ]
  },
  {
   "cell_type": "code",
   "execution_count": 392,
   "metadata": {},
   "outputs": [],
   "source": [
    "# Gradient descent method\n",
    "def gradientDescent(delta, wk, d_set, armij = False, alpha = 0, empiricalError = MSE):\n",
    "    gk = np.multiply(-1,gradient(wk, d_set, empiricalError))\n",
    "    k = 0\n",
    "    while np.linalg.norm(gk)>delta:\n",
    "        if k<500:\n",
    "            break\n",
    "        if armij == True:\n",
    "            alpha = armijo(wk,gk, d_set)\n",
    "        wk = np.add(wk, np.multiply(alpha,gk))\n",
    "        gk = np.multiply(-1,gradient(wk, d_set, empiricalError))\n",
    "        k = k+1\n",
    "    return wk\n",
    "# print(\"{0:d}- Ls = {1:.2f}\".format(int(k),float(empiricalError(wk))))"
   ]
  },
  {
   "cell_type": "code",
   "execution_count": 408,
   "metadata": {},
   "outputs": [
    {
     "name": "stdout",
     "output_type": "stream",
     "text": [
      "Armijo    : w* = [1.25, 2.13], Emp_Error = 12.16 \n"
     ]
    }
   ],
   "source": [
    "# Calculation of the regression model for our four model\n",
    "\n",
    "w_optim_001 = gradientDescent(0.1, [1,1], training_dataset, alpha  = 0.01) # MSE\n",
    "print(\"alpha=0.01: w* = [{0:.2f}, {1:.2f}], Emp_Error = {2:.2f} \".format(w_optim_001[0],w_optim_001[1],MSE(w_optim_001,training_dataset)))\n",
    "\n",
    "w_optim_002 = gradientDescent(0.1, [1,1], training_dataset, alpha  = 0.02) # RMSE\n",
    "print(\"alpha=0.02: w* = [{0:.2f}, {1:.2f}], Emp_Error = {2:.2f} \".format(w_optim_002[0],w_optim_002[1],MSE(w_optim_002,training_dataset)))\n",
    "\n",
    "w_optim_003 = gradientDescent(0.1, [1,1], training_dataset, alpha  = 0.03) # RMSE\n",
    "print(\"alpha=0.03: w* = [{0:.2f}, {1:.2f}], Emp_Error = {2:.2f} \".format(w_optim_003[0],w_optim_003[1],MSE(w_optim_003,training_dataset)))\n",
    "\n",
    "w_optim_armijo  = gradientDescent(0.1, [1,1], training_dataset, armij = True) # MAE\n",
    "print(\"Armijo    : w* = [{0:.2f}, {1:.2f}], Emp_Error = {2:.2f} \".format(w_optim_armijo[0],w_optim_armijo[1],MSE(w_optim_armijo,training_dataset)))\n"
   ]
  },
  {
   "cell_type": "code",
   "execution_count": 201,
   "metadata": {},
   "outputs": [
    {
     "data": {
      "image/png": "[encoded data removed]",
      "text/plain": [
       "<Figure size 432x288 with 1 Axes>"
      ]
     },
     "metadata": {
      "needs_background": "light"
     },
     "output_type": "display_data"
    }
   ],
   "source": [
    "# alpha  = 0.01\n",
    "plot_h(w_optim_001,training_dataset)"
   ]
  },
  {
   "cell_type": "code",
   "execution_count": 202,
   "metadata": {},
   "outputs": [
    {
     "data": {
      "image/png": "[encoded data removed]",
      "text/plain": [
       "<Figure size 432x288 with 1 Axes>"
      ]
     },
     "metadata": {
      "needs_background": "light"
     },
     "output_type": "display_data"
    }
   ],
   "source": [
    "# alpha  = 0.02\n",
    "plot_h(w_optim_002,training_dataset)"
   ]
  },
  {
   "cell_type": "code",
   "execution_count": 203,
   "metadata": {},
   "outputs": [
    {
     "data": {
      "image/png": "[encoded data removed]",
      "text/plain": [
       "<Figure size 432x288 with 1 Axes>"
      ]
     },
     "metadata": {
      "needs_background": "light"
     },
     "output_type": "display_data"
    }
   ],
   "source": [
    "# alpha  = 0.03\n",
    "plot_h(w_optim_003,training_dataset)"
   ]
  },
  {
   "cell_type": "code",
   "execution_count": 409,
   "metadata": {},
   "outputs": [
    {
     "data": {
      "image/png": "[encoded data removed]",
      "text/plain": [
       "<Figure size 432x288 with 1 Axes>"
      ]
     },
     "metadata": {
      "needs_background": "light"
     },
     "output_type": "display_data"
    }
   ],
   "source": [
    "# Armijo step\n",
    "plot_h(w_optim_armijo,training_dataset)"
   ]
  },
  {
   "cell_type": "markdown",
   "metadata": {},
   "source": [
    "# Question7: Evaluation of our 4 models with the testing dataset and return the generalization error."
   ]
  },
  {
   "cell_type": "code",
   "execution_count": 226,
   "metadata": {},
   "outputs": [
    {
     "name": "stdout",
     "output_type": "stream",
     "text": [
      "MSE = 517459236468830.81\n",
      "MSE = 25606662554446804.00\n",
      "MSE = 890872929386979.88\n",
      "MSE = 10.23\n"
     ]
    }
   ],
   "source": [
    "# Calculation of the general error for our 4 models\n",
    "# the model with alpha = 0.01\n",
    "MSE_alpha001 = MSE(w_optim_001   , testing_dataset)\n",
    "print(\"MSE = {0:.2f}\".format(MSE_alpha001))\n",
    "# the model with alpha = 0.02\n",
    "MSE_alpha002 = MSE(w_optim_002   , testing_dataset)\n",
    "print(\"MSE = {0:.2f}\".format(MSE_alpha002))\n",
    "# the model with alpha = 0.03\n",
    "MSE_alpha003 = MSE(w_optim_003   , testing_dataset)\n",
    "print(\"MSE = {0:.2f}\".format(MSE_alpha003))\n",
    "# the model with armijo learning rate\n",
    "MSE_armijo   = MSE(w_optim_armijo, testing_dataset)\n",
    "print(\"MSE = {0:.2f}\".format(MSE_armijo))"
   ]
  },
  {
   "cell_type": "markdown",
   "metadata": {},
   "source": [
    "# Question8: Estimate generalization error (bias-variance) and interpret results"
   ]
  },
  {
   "cell_type": "markdown",
   "metadata": {},
   "source": [
    "Biais"
   ]
  },
  {
   "cell_type": "code",
   "execution_count": 250,
   "metadata": {},
   "outputs": [],
   "source": [
    "def bias(w,d_set):\n",
    "    Bias = 0\n",
    "    for i in range(len(d_set)):\n",
    "        Bias = Bias + pow(h(d_set['x'][i],w) - d_set['y'][i],2)\n",
    "    return np.sqrt(Bias)"
   ]
  },
  {
   "cell_type": "code",
   "execution_count": 252,
   "metadata": {},
   "outputs": [
    {
     "name": "stdout",
     "output_type": "stream",
     "text": [
      "model 1 Bias = 349260805.45\n",
      "model 2 Bias = 2456744913.65\n",
      "model 3 Bias = 458245687.92\n",
      "model 4 Bias = 52.40\n"
     ]
    }
   ],
   "source": [
    "print(\"model 1 Bias = {0:.2f}\".format(bias(w_optim_001,dataframe)))\n",
    "print(\"model 2 Bias = {0:.2f}\".format(bias(w_optim_002,dataframe)))\n",
    "print(\"model 3 Bias = {0:.2f}\".format(bias(w_optim_003,dataframe)))\n",
    "print(\"model 4 Bias = {0:.2f}\".format(bias(w_optim_armijo,dataframe)))"
   ]
  },
  {
   "cell_type": "markdown",
   "metadata": {},
   "source": [
    "Variance"
   ]
  },
  {
   "cell_type": "code",
   "execution_count": 253,
   "metadata": {},
   "outputs": [],
   "source": [
    "def variance(w,d_set):\n",
    "    mean_Ypred = 0\n",
    "    for i in range(len(d_set)):\n",
    "        mean_Ypred = mean_Ypred + h(d_set['x'][i],w)\n",
    "    mean_Ypred = mean_Ypred/len(d_set)\n",
    "    \n",
    "    Var = 0\n",
    "    for i in range(len(d_set)):\n",
    "        Var = Var + pow(h(d_set['x'][i],w) - mean_Ypred,2)\n",
    "    return Var/len(d_set)"
   ]
  },
  {
   "cell_type": "code",
   "execution_count": 254,
   "metadata": {},
   "outputs": [
    {
     "name": "stdout",
     "output_type": "stream",
     "text": [
      "model 1 Variance = 107867028291376.53\n",
      "model 2 Variance = 5318034188001387.00\n",
      "model 3 Variance = 185187000385875.69\n",
      "model 4 Variance = 183.81\n"
     ]
    }
   ],
   "source": [
    "print(\"model 1 Variance = {0:.2f}\".format(variance(w_optim_001,dataframe)))\n",
    "print(\"model 2 Variance = {0:.2f}\".format(variance(w_optim_002,dataframe)))\n",
    "print(\"model 3 Variance = {0:.2f}\".format(variance(w_optim_003,dataframe)))\n",
    "print(\"model 4 Variance = {0:.2f}\".format(variance(w_optim_armijo,dataframe)))"
   ]
  },
  {
   "cell_type": "code",
   "execution_count": 65,
   "metadata": {},
   "outputs": [],
   "source": [
    "dataframe = dataframe.drop(6, axis = 0)"
   ]
  },
  {
   "cell_type": "code",
   "execution_count": 70,
   "metadata": {},
   "outputs": [
    {
     "data": {
      "text/plain": [
       "2"
      ]
     },
     "execution_count": 70,
     "metadata": {},
     "output_type": "execute_result"
    }
   ],
   "source": [
    "dataframe.index[0]"
   ]
  },
  {
   "cell_type": "code",
   "execution_count": null,
   "metadata": {},
   "outputs": [],
   "source": [
    "# Euclidient distance\n",
    "def d2(p1, p2):\n",
    "    return np.sqrt((p1[0]-p2[0])**2 + (p1[1]-p2[1])**2)"
   ]
  },
  {
   "cell_type": "code",
   "execution_count": 329,
   "metadata": {},
   "outputs": [],
   "source": [
    "# Covering Number\n",
    "def coveringNumber(df, eps):\n",
    "    new_df = []\n",
    "    while len(df.index)>0:\n",
    "        cur = random.randint(0, len(df.index)-1)\n",
    "        lst_index = []\n",
    "        for i in range(len(df.index)):\n",
    "            p1 = [ df['x'][df.index[cur]], df['y'][df.index[cur]] ]\n",
    "            p2 = [ df['x'][df.index[i  ]], df['y'][df.index[i  ]] ]\n",
    "            if d2(p1, p2)<eps:\n",
    "                lst_index.append(df.index[i])\n",
    "        new_df.append([ df['x'][df.index[cur]], df['y'][df.index[cur]]])\n",
    "        for i in range(len(lst_index)):\n",
    "            df = df.drop(lst_index[i], axis=0)\n",
    "    return new_df"
   ]
  },
  {
   "cell_type": "code",
   "execution_count": 349,
   "metadata": {},
   "outputs": [],
   "source": [
    "epsilon = 3\n",
    "new_dataframe = coveringNumber(dataframe, epsilon)"
   ]
  },
  {
   "cell_type": "code",
   "execution_count": 350,
   "metadata": {},
   "outputs": [
    {
     "data": {
      "text/html": [
       "<div>\n",
       "<style scoped>\n",
       "    .dataframe tbody tr th:only-of-type {\n",
       "        vertical-align: middle;\n",
       "    }\n",
       "\n",
       "    .dataframe tbody tr th {\n",
       "        vertical-align: top;\n",
       "    }\n",
       "\n",
       "    .dataframe thead th {\n",
       "        text-align: right;\n",
       "    }\n",
       "</style>\n",
       "<table border=\"1\" class=\"dataframe\">\n",
       "  <thead>\n",
       "    <tr style=\"text-align: right;\">\n",
       "      <th></th>\n",
       "      <th>0</th>\n",
       "      <th>1</th>\n",
       "    </tr>\n",
       "  </thead>\n",
       "  <tbody>\n",
       "    <tr>\n",
       "      <th>0</th>\n",
       "      <td>20.4</td>\n",
       "      <td>46.875766</td>\n",
       "    </tr>\n",
       "    <tr>\n",
       "      <th>1</th>\n",
       "      <td>3.8</td>\n",
       "      <td>7.862090</td>\n",
       "    </tr>\n",
       "    <tr>\n",
       "      <th>2</th>\n",
       "      <td>7.8</td>\n",
       "      <td>8.752661</td>\n",
       "    </tr>\n",
       "    <tr>\n",
       "      <th>3</th>\n",
       "      <td>5.0</td>\n",
       "      <td>14.610704</td>\n",
       "    </tr>\n",
       "    <tr>\n",
       "      <th>4</th>\n",
       "      <td>18.2</td>\n",
       "      <td>38.475830</td>\n",
       "    </tr>\n",
       "    <tr>\n",
       "      <th>5</th>\n",
       "      <td>18.3</td>\n",
       "      <td>42.095983</td>\n",
       "    </tr>\n",
       "    <tr>\n",
       "      <th>6</th>\n",
       "      <td>22.2</td>\n",
       "      <td>42.188781</td>\n",
       "    </tr>\n",
       "    <tr>\n",
       "      <th>7</th>\n",
       "      <td>8.5</td>\n",
       "      <td>18.928064</td>\n",
       "    </tr>\n",
       "    <tr>\n",
       "      <th>8</th>\n",
       "      <td>2.7</td>\n",
       "      <td>11.635610</td>\n",
       "    </tr>\n",
       "    <tr>\n",
       "      <th>9</th>\n",
       "      <td>23.3</td>\n",
       "      <td>49.291005</td>\n",
       "    </tr>\n",
       "    <tr>\n",
       "      <th>10</th>\n",
       "      <td>11.2</td>\n",
       "      <td>29.620786</td>\n",
       "    </tr>\n",
       "    <tr>\n",
       "      <th>11</th>\n",
       "      <td>10.3</td>\n",
       "      <td>25.417581</td>\n",
       "    </tr>\n",
       "    <tr>\n",
       "      <th>12</th>\n",
       "      <td>11.4</td>\n",
       "      <td>33.645237</td>\n",
       "    </tr>\n",
       "    <tr>\n",
       "      <th>13</th>\n",
       "      <td>15.7</td>\n",
       "      <td>31.300968</td>\n",
       "    </tr>\n",
       "    <tr>\n",
       "      <th>14</th>\n",
       "      <td>14.1</td>\n",
       "      <td>27.938024</td>\n",
       "    </tr>\n",
       "    <tr>\n",
       "      <th>15</th>\n",
       "      <td>17.6</td>\n",
       "      <td>35.265671</td>\n",
       "    </tr>\n",
       "    <tr>\n",
       "      <th>16</th>\n",
       "      <td>2.9</td>\n",
       "      <td>3.923617</td>\n",
       "    </tr>\n",
       "    <tr>\n",
       "      <th>17</th>\n",
       "      <td>7.4</td>\n",
       "      <td>22.564466</td>\n",
       "    </tr>\n",
       "    <tr>\n",
       "      <th>18</th>\n",
       "      <td>23.2</td>\n",
       "      <td>45.571898</td>\n",
       "    </tr>\n",
       "    <tr>\n",
       "      <th>19</th>\n",
       "      <td>7.3</td>\n",
       "      <td>25.869499</td>\n",
       "    </tr>\n",
       "    <tr>\n",
       "      <th>20</th>\n",
       "      <td>23.5</td>\n",
       "      <td>54.928640</td>\n",
       "    </tr>\n",
       "    <tr>\n",
       "      <th>21</th>\n",
       "      <td>23.8</td>\n",
       "      <td>58.235659</td>\n",
       "    </tr>\n",
       "    <tr>\n",
       "      <th>22</th>\n",
       "      <td>14.4</td>\n",
       "      <td>36.390245</td>\n",
       "    </tr>\n",
       "    <tr>\n",
       "      <th>23</th>\n",
       "      <td>4.9</td>\n",
       "      <td>17.759387</td>\n",
       "    </tr>\n",
       "    <tr>\n",
       "      <th>24</th>\n",
       "      <td>10.6</td>\n",
       "      <td>21.595950</td>\n",
       "    </tr>\n",
       "    <tr>\n",
       "      <th>25</th>\n",
       "      <td>14.8</td>\n",
       "      <td>40.745985</td>\n",
       "    </tr>\n",
       "  </tbody>\n",
       "</table>\n",
       "</div>"
      ],
      "text/plain": [
       "       0          1\n",
       "0   20.4  46.875766\n",
       "1    3.8   7.862090\n",
       "2    7.8   8.752661\n",
       "3    5.0  14.610704\n",
       "4   18.2  38.475830\n",
       "5   18.3  42.095983\n",
       "6   22.2  42.188781\n",
       "7    8.5  18.928064\n",
       "8    2.7  11.635610\n",
       "9   23.3  49.291005\n",
       "10  11.2  29.620786\n",
       "11  10.3  25.417581\n",
       "12  11.4  33.645237\n",
       "13  15.7  31.300968\n",
       "14  14.1  27.938024\n",
       "15  17.6  35.265671\n",
       "16   2.9   3.923617\n",
       "17   7.4  22.564466\n",
       "18  23.2  45.571898\n",
       "19   7.3  25.869499\n",
       "20  23.5  54.928640\n",
       "21  23.8  58.235659\n",
       "22  14.4  36.390245\n",
       "23   4.9  17.759387\n",
       "24  10.6  21.595950\n",
       "25  14.8  40.745985"
      ]
     },
     "execution_count": 350,
     "metadata": {},
     "output_type": "execute_result"
    }
   ],
   "source": [
    "pd.DataFrame(new_dataframe)"
   ]
  },
  {
   "cell_type": "code",
   "execution_count": 354,
   "metadata": {},
   "outputs": [],
   "source": [
    "# Covering Number\n",
    "def coveringNumber(df, eps):\n",
    "    new_df = []\n",
    "    while len(df.index)>0:\n",
    "        cur = random.randint(0, len(df.index)-1)\n",
    "        lst_index = []\n",
    "        for i in range(len(df.index)):\n",
    "            p1 = [ df['x'][df.index[cur]], df['y'][df.index[cur]] ]\n",
    "            p2 = [ df['x'][df.index[i  ]], df['y'][df.index[i  ]] ]\n",
    "            if d2(p1, p2)<eps:\n",
    "                lst_index.append(df.index[i])\n",
    "        new_df.append([ df['x'][df.index[cur]], df['y'][df.index[cur]]])\n",
    "        for i in range(len(lst_index)):\n",
    "            df = df.drop(lst_index[i], axis=0)\n",
    "    return pd.DataFrame(new_df)"
   ]
  },
  {
   "cell_type": "code",
   "execution_count": 384,
   "metadata": {},
   "outputs": [
    {
     "data": {
      "text/plain": [
       "23"
      ]
     },
     "execution_count": 384,
     "metadata": {},
     "output_type": "execute_result"
    }
   ],
   "source": [
    "epsilon = 3\n",
    "set_C = coveringNumber(dataframe, epsilon)\n",
    "len(set_C)"
   ]
  },
  {
   "cell_type": "markdown",
   "metadata": {},
   "source": [
    "# Quation 14 : calculation of the Accuracy"
   ]
  },
  {
   "cell_type": "code",
   "execution_count": 411,
   "metadata": {},
   "outputs": [
    {
     "name": "stdout",
     "output_type": "stream",
     "text": [
      "13.202543742895662\n"
     ]
    }
   ],
   "source": [
    "accuracy = MSE(w_optim_armijo, testing_dataset)\n",
    "print(accuracy)"
   ]
  }
 ],
 "metadata": {
  "celltoolbar": "Format de la Cellule Texte Brut",
  "kernelspec": {
   "display_name": "Python 3",
   "language": "python",
   "name": "python3"
  },
  "language_info": {
   "codemirror_mode": {
    "name": "ipython",
    "version": 3
   },
   "file_extension": ".py",
   "mimetype": "text/x-python",
   "name": "python",
   "nbconvert_exporter": "python",
   "pygments_lexer": "ipython3",
   "version": "3.8.5"
  }
 },
 "nbformat": 4,
 "nbformat_minor": 4
}
