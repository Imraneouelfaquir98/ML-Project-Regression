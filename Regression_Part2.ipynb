{
 "cells": [
  {
   "cell_type": "markdown",
   "metadata": {},
   "source": [
    "# Part 2:"
   ]
  },
  {
   "cell_type": "code",
   "execution_count": 3,
   "metadata": {},
   "outputs": [],
   "source": [
    "import pandas as pd\n",
    "import numpy as np\n",
    "import matplotlib.pyplot as plt\n",
    "import csv"
   ]
  },
  {
   "cell_type": "markdown",
   "metadata": {},
   "source": [
    "# Loading and splitting Dataset"
   ]
  },
  {
   "cell_type": "code",
   "execution_count": 4,
   "metadata": {},
   "outputs": [],
   "source": [
    "# Loading Dataset\n",
    "url = \"Part2_data12.csv\"\n",
    "dataset = pd.read_csv(url)"
   ]
  },
  {
   "cell_type": "code",
   "execution_count": 16,
   "metadata": {},
   "outputs": [
    {
     "name": "stdout",
     "output_type": "stream",
     "text": [
      "Dimension = 220*2\n"
     ]
    }
   ],
   "source": [
    "#Shape : Dimensions of the dataset\n",
    "print(\"Dimension = {0:d}*{1:d}\".format(dataset.shape[0],dataset.shape[1]))"
   ]
  },
  {
   "cell_type": "markdown",
   "metadata": {},
   "source": [
    "# Randomly mix the dataset by the function simple"
   ]
  },
  {
   "cell_type": "code",
   "execution_count": 17,
   "metadata": {},
   "outputs": [],
   "source": [
    "dataframe = pd.DataFrame(dataset)\n",
    "dataframe_mixed = dataframe.sample(frac=1)\n",
    "# dataframe_mixed"
   ]
  },
  {
   "cell_type": "markdown",
   "metadata": {},
   "source": [
    "# We take 70% as a training data and 30% as a testing data"
   ]
  },
  {
   "cell_type": "code",
   "execution_count": 18,
   "metadata": {},
   "outputs": [],
   "source": [
    "training_dataset_df = dataframe_mixed[:int(len(dataframe)*0.7)]\n",
    "# training_dataset\n",
    "\n",
    "testing_dataset_df  = dataframe_mixed[int(len(dataframe)*0.7):len(dataframe)]\n",
    "# testing_dataset\n",
    "\n",
    "# Saving training and testing dataset to a cqsv files\n",
    "training_dataset_df.to_csv(r'training_dataset_part2.csv', index=False, header=True)\n",
    "testing_dataset_df.to_csv(r'testing_dataset_part2.csv'  , index=False, header=True)"
   ]
  },
  {
   "cell_type": "markdown",
   "metadata": {},
   "source": [
    "#  Read and visualize the given data."
   ]
  },
  {
   "cell_type": "code",
   "execution_count": 38,
   "metadata": {},
   "outputs": [],
   "source": [
    "training_dataset_url = \"training_dataset_part2.csv\"\n",
    "testing_dataset_url  = \"testing_dataset_part2.csv\"\n",
    "\n",
    "training_dataset = pd.read_csv(training_dataset_url)\n",
    "testing_dataset  = pd.read_csv(testing_dataset_url)"
   ]
  },
  {
   "cell_type": "markdown",
   "metadata": {},
   "source": [
    "# Give the mean/median/min/max for each feature."
   ]
  },
  {
   "cell_type": "code",
   "execution_count": 39,
   "metadata": {},
   "outputs": [
    {
     "name": "stdout",
     "output_type": "stream",
     "text": [
      "mean(x) = 0.95\n",
      "median(x) = 0.95\n",
      "max(x) = 11.90\n",
      "min(x) = -10.00\n"
     ]
    }
   ],
   "source": [
    "# Calculation of the mean of x\n",
    "print(\"mean(x) = {:.2f}\".format(float(pd.DataFrame(dataset['x']).mean())))\n",
    "\n",
    "# Calculation of the median of x\n",
    "print(\"median(x) = {:.2f}\".format(float(pd.DataFrame(dataset['x']).median())))\n",
    "\n",
    "# Calculation of the max of x\n",
    "print(\"max(x) = {:.2f}\".format(float(pd.DataFrame(dataset['x']).max())))\n",
    "\n",
    "# Calculation of the min of x\n",
    "print(\"min(x) = {:.2f}\".format(float(pd.DataFrame(dataset['x']).min())))"
   ]
  },
  {
   "cell_type": "markdown",
   "metadata": {},
   "source": [
    "# Use scatter plot to represent your training dataset."
   ]
  },
  {
   "cell_type": "code",
   "execution_count": 5,
   "metadata": {},
   "outputs": [
    {
     "data": {
      "text/plain": [
       "<matplotlib.collections.PathCollection at 0x7f0d59f0a520>"
      ]
     },
     "execution_count": 5,
     "metadata": {},
     "output_type": "execute_result"
    },
    {
     "data": {
      "image/png": "[encoded data removed]",
      "text/plain": [
       "<Figure size 432x288 with 1 Axes>"
      ]
     },
     "metadata": {
      "needs_background": "light"
     },
     "output_type": "display_data"
    }
   ],
   "source": [
    "# Plotting the training dataset\n",
    "plt.scatter(training_dataset['x'], training_dataset['y'], c = 'red', marker = '*')"
   ]
  },
  {
   "cell_type": "markdown",
   "metadata": {},
   "source": [
    "# Question2: Build the Polynomial regression algorithm of degree k ≥ 2"
   ]
  },
  {
   "cell_type": "markdown",
   "metadata": {},
   "source": [
    "# The hypothesis function. "
   ]
  },
  {
   "cell_type": "code",
   "execution_count": 43,
   "metadata": {},
   "outputs": [],
   "source": [
    "# The hypothesis function. \n",
    "def h(x,w):\n",
    "    polynom = float(0)\n",
    "    for i in range(len(w)):\n",
    "        polynom = polynom + w[i]*pow(x,i)\n",
    "    return polynom"
   ]
  },
  {
   "cell_type": "markdown",
   "metadata": {},
   "source": [
    "# The empirical error"
   ]
  },
  {
   "cell_type": "code",
   "execution_count": 44,
   "metadata": {},
   "outputs": [],
   "source": [
    "# The empirical error MSE\n",
    "def MSE(w,d_set):\n",
    "    MSE = 0\n",
    "    for i in range(len(d_set)):\n",
    "        MSE = MSE + pow((d_set['y'][i] - h(d_set['x'][i],w)),2)\n",
    "    return MSE/len(d_set)"
   ]
  },
  {
   "cell_type": "markdown",
   "metadata": {},
   "source": [
    "# Armijo learning rate"
   ]
  },
  {
   "cell_type": "code",
   "execution_count": 45,
   "metadata": {},
   "outputs": [],
   "source": [
    "# Calculation of the step Armijo\n",
    "def armijo(wk, dk, d_set, empiricalError = MSE):\n",
    "    alpha = 1\n",
    "    X = 0.25*alpha*np.matmul(gradient(wk, d_set,empiricalError), dk)\n",
    "    while empiricalError(np.add(wk, np.multiply(alpha,dk)), d_set) - empiricalError(wk, d_set) > X:\n",
    "        alpha = alpha/2\n",
    "        X = 0.25*alpha*np.matmul(gradient(wk, d_set,empiricalError), dk)\n",
    "    return alpha"
   ]
  },
  {
   "cell_type": "markdown",
   "metadata": {},
   "source": [
    "# Calculation of the gradient"
   ]
  },
  {
   "cell_type": "code",
   "execution_count": 214,
   "metadata": {},
   "outputs": [],
   "source": [
    "# Calculation of the gradient\n",
    "def gradient(w, d_set, empiricalError = MSE):\n",
    "    grad = []\n",
    "    wi = [float(0) for i in range(len(w))]\n",
    "    for i in range(len(w)):\n",
    "        for k in range(len(w)):\n",
    "            wi[k] = w[k]\n",
    "        wi[i] = wi[i] + 1e-10\n",
    "        grad.append((empiricalError(wi,d_set) - empiricalError(w,d_set))/1e-10)\n",
    "    return grad"
   ]
  },
  {
   "cell_type": "code",
   "execution_count": 227,
   "metadata": {},
   "outputs": [],
   "source": [
    "# Plotting the training dataset with hypotesis function\n",
    "def plot_h(w,df):\n",
    "    plt.scatter(df['x'], df['y'], c = 'red', marker = '*')\n",
    "    x   = []\n",
    "    h_x = []\n",
    "    k = int(df['x'].min())-1\n",
    "    while int(df['x'].max())+2>k : \n",
    "        x.append(k)\n",
    "        h_x.append(h(k,w))\n",
    "        k = k + 0.5\n",
    "    plt.plot(x, h_x, linewidth=4)"
   ]
  },
  {
   "cell_type": "markdown",
   "metadata": {},
   "source": [
    "# Gradient Descent Method"
   ]
  },
  {
   "cell_type": "code",
   "execution_count": 281,
   "metadata": {},
   "outputs": [],
   "source": [
    "# Gradient descent method\n",
    "def gradientDescent(delta, degree, d_set, armij=False,alpha=0,empiricalError=MSE):\n",
    "    wk = [float(0) for i in range(degree+1)]\n",
    "    gk = np.multiply(-1,gradient(wk, d_set, empiricalError))\n",
    "    k = 0\n",
    "    while np.linalg.norm(gk)>delta:\n",
    "        if k>500:\n",
    "            break\n",
    "        print(\"k = {0:d}, norm = {1:.2f}, MSE = {1:.2f}\".format(k,np.linalg.norm(gk),empiricalError(wk,d_set)))\n",
    "        if armij == True:\n",
    "            alpha = armijo(wk,gk, d_set)\n",
    "        wk = np.add(wk, np.multiply(alpha,gk))\n",
    "        gk = np.multiply(-1,gradient(wk, d_set, empiricalError))\n",
    "        k = k+1\n",
    "    return wk"
   ]
  },
  {
   "cell_type": "code",
   "execution_count": 282,
   "metadata": {
    "scrolled": true
   },
   "outputs": [
    {
     "name": "stdout",
     "output_type": "stream",
     "text": [
      "k = 0, norm = 10616.58, MSE = 10616.58\n",
      "k = 1, norm = 1179523.86, MSE = 1179523.86\n",
      "k = 2, norm = 122192321.84, MSE = 122192321.84\n",
      "=====================\n",
      "k = 0, norm = 10616.58, MSE = 10616.58\n",
      "k = 1, norm = 3928.27, MSE = 3928.27\n",
      "k = 2, norm = 1468.95, MSE = 1468.95\n",
      "k = 3, norm = 587.15, MSE = 587.15\n",
      "k = 4, norm = 309.16, MSE = 309.16\n",
      "k = 5, norm = 413.24, MSE = 413.24\n",
      "k = 6, norm = 258.83, MSE = 258.83\n",
      "k = 7, norm = 606.02, MSE = 606.02\n",
      "k = 8, norm = 294.23, MSE = 294.23\n",
      "k = 9, norm = 415.72, MSE = 415.72\n",
      "k = 10, norm = 237.51, MSE = 237.51\n",
      "k = 11, norm = 300.91, MSE = 300.91\n",
      "k = 12, norm = 204.51, MSE = 204.51\n",
      "k = 13, norm = 424.55, MSE = 424.55\n",
      "k = 14, norm = 221.94, MSE = 221.94\n",
      "k = 15, norm = 298.04, MSE = 298.04\n",
      "k = 16, norm = 185.04, MSE = 185.04\n",
      "k = 17, norm = 438.00, MSE = 438.00\n",
      "k = 18, norm = 211.42, MSE = 211.42\n",
      "k = 19, norm = 299.93, MSE = 299.93\n",
      "k = 20, norm = 170.11, MSE = 170.11\n",
      "k = 21, norm = 216.63, MSE = 216.63\n",
      "k = 22, norm = 146.23, MSE = 146.23\n",
      "k = 23, norm = 306.56, MSE = 306.56\n",
      "k = 24, norm = 159.17, MSE = 159.17\n",
      "k = 25, norm = 214.77, MSE = 214.77\n",
      "k = 26, norm = 132.35, MSE = 132.35\n",
      "k = 27, norm = 316.47, MSE = 316.47\n",
      "k = 28, norm = 151.88, MSE = 151.88\n",
      "k = 29, norm = 216.46, MSE = 216.46\n",
      "k = 30, norm = 121.84, MSE = 121.84\n",
      "k = 31, norm = 155.93, MSE = 155.93\n",
      "k = 32, norm = 104.26, MSE = 104.26\n",
      "k = 33, norm = 220.67, MSE = 220.67\n",
      "k = 34, norm = 113.88, MSE = 113.88\n",
      "k = 35, norm = 154.16, MSE = 154.16\n",
      "k = 36, norm = 94.59, MSE = 94.59\n",
      "k = 37, norm = 227.81, MSE = 227.81\n",
      "k = 38, norm = 108.77, MSE = 108.77\n",
      "k = 39, norm = 155.42, MSE = 155.42\n",
      "k = 40, norm = 87.04, MSE = 87.04\n",
      "k = 41, norm = 111.65, MSE = 111.65\n",
      "k = 42, norm = 74.49, MSE = 74.49\n",
      "k = 43, norm = 158.57, MSE = 158.57\n",
      "k = 44, norm = 81.59, MSE = 81.59\n",
      "k = 45, norm = 110.78, MSE = 110.78\n",
      "k = 46, norm = 67.68, MSE = 67.68\n",
      "k = 47, norm = 164.13, MSE = 164.13\n",
      "k = 48, norm = 78.19, MSE = 78.19\n",
      "k = 49, norm = 112.01, MSE = 112.01\n",
      "k = 50, norm = 62.43, MSE = 62.43\n",
      "k = 51, norm = 80.23, MSE = 80.23\n",
      "k = 52, norm = 53.38, MSE = 53.38\n",
      "k = 53, norm = 114.87, MSE = 114.87\n",
      "k = 54, norm = 58.64, MSE = 58.64\n",
      "k = 55, norm = 79.94, MSE = 79.94\n",
      "k = 56, norm = 48.43, MSE = 48.43\n",
      "k = 57, norm = 59.04, MSE = 59.04\n",
      "k = 58, norm = 85.01, MSE = 85.01\n",
      "k = 59, norm = 47.15, MSE = 47.15\n",
      "k = 60, norm = 60.81, MSE = 60.81\n",
      "k = 61, norm = 40.24, MSE = 40.24\n",
      "k = 62, norm = 86.75, MSE = 86.75\n",
      "k = 63, norm = 44.29, MSE = 44.29\n",
      "k = 64, norm = 60.49, MSE = 60.49\n",
      "k = 65, norm = 36.55, MSE = 36.55\n",
      "k = 66, norm = 44.56, MSE = 44.56\n",
      "k = 67, norm = 64.01, MSE = 64.01\n",
      "k = 68, norm = 35.47, MSE = 35.47\n",
      "k = 69, norm = 45.60, MSE = 45.60\n",
      "k = 70, norm = 30.53, MSE = 30.53\n",
      "k = 71, norm = 65.52, MSE = 65.52\n",
      "k = 72, norm = 33.45, MSE = 33.45\n",
      "k = 73, norm = 45.52, MSE = 45.52\n",
      "k = 74, norm = 27.71, MSE = 27.71\n",
      "k = 75, norm = 33.93, MSE = 33.93\n",
      "k = 76, norm = 48.66, MSE = 48.66\n",
      "k = 77, norm = 27.03, MSE = 27.03\n",
      "k = 78, norm = 35.03, MSE = 35.03\n",
      "k = 79, norm = 23.14, MSE = 23.14\n",
      "k = 80, norm = 50.63, MSE = 50.63\n",
      "k = 81, norm = 25.60, MSE = 25.60\n",
      "k = 82, norm = 35.20, MSE = 35.20\n",
      "k = 83, norm = 21.22, MSE = 21.22\n",
      "k = 84, norm = 26.21, MSE = 26.21\n",
      "k = 85, norm = 18.65, MSE = 18.65\n",
      "k = 86, norm = 36.59, MSE = 36.59\n",
      "k = 87, norm = 19.96, MSE = 19.96\n",
      "k = 88, norm = 26.11, MSE = 26.11\n",
      "k = 89, norm = 16.95, MSE = 16.95\n",
      "k = 90, norm = 37.73, MSE = 37.73\n",
      "k = 91, norm = 18.92, MSE = 18.92\n",
      "k = 92, norm = 26.09, MSE = 26.09\n",
      "k = 93, norm = 15.52, MSE = 15.52\n",
      "k = 94, norm = 19.24, MSE = 19.24\n",
      "k = 95, norm = 13.59, MSE = 13.59\n",
      "k = 96, norm = 26.44, MSE = 26.44\n",
      "k = 97, norm = 14.46, MSE = 14.46\n",
      "k = 98, norm = 18.86, MSE = 18.86\n",
      "k = 99, norm = 12.36, MSE = 12.36\n",
      "k = 100, norm = 27.47, MSE = 27.47\n",
      "k = 101, norm = 13.86, MSE = 13.86\n",
      "k = 102, norm = 18.96, MSE = 18.96\n",
      "k = 103, norm = 11.45, MSE = 11.45\n",
      "k = 104, norm = 14.09, MSE = 14.09\n",
      "k = 105, norm = 10.08, MSE = 10.08\n",
      "k = 106, norm = 19.55, MSE = 19.55\n",
      "k = 107, norm = 10.83, MSE = 10.83\n",
      "k = 108, norm = 14.14, MSE = 14.14\n",
      "k = 109, norm = 9.42, MSE = 9.42\n",
      "k = 110, norm = 20.62, MSE = 20.62\n",
      "k = 111, norm = 10.48, MSE = 10.48\n",
      "k = 112, norm = 14.08, MSE = 14.08\n",
      "k = 113, norm = 8.64, MSE = 8.64\n",
      "k = 114, norm = 20.80, MSE = 20.80\n",
      "k = 115, norm = 10.07, MSE = 10.07\n",
      "k = 116, norm = 14.18, MSE = 14.18\n",
      "k = 117, norm = 8.21, MSE = 8.21\n",
      "k = 118, norm = 10.50, MSE = 10.50\n",
      "k = 119, norm = 7.22, MSE = 7.22\n",
      "k = 120, norm = 15.32, MSE = 15.32\n",
      "k = 121, norm = 8.04, MSE = 8.04\n",
      "k = 122, norm = 10.76, MSE = 10.76\n",
      "k = 123, norm = 6.77, MSE = 6.77\n",
      "k = 124, norm = 15.33, MSE = 15.33\n",
      "k = 125, norm = 7.76, MSE = 7.76\n",
      "k = 126, norm = 10.59, MSE = 10.59\n",
      "k = 127, norm = 6.47, MSE = 6.47\n",
      "k = 128, norm = 15.51, MSE = 15.51\n",
      "k = 129, norm = 7.61, MSE = 7.61\n",
      "k = 130, norm = 10.93, MSE = 10.93\n",
      "k = 131, norm = 6.34, MSE = 6.34\n",
      "k = 132, norm = 8.15, MSE = 8.15\n",
      "k = 133, norm = 5.59, MSE = 5.59\n",
      "k = 134, norm = 11.68, MSE = 11.68\n",
      "k = 135, norm = 6.27, MSE = 6.27\n",
      "k = 136, norm = 8.35, MSE = 8.35\n",
      "k = 137, norm = 5.38, MSE = 5.38\n",
      "k = 138, norm = 12.33, MSE = 12.33\n",
      "k = 139, norm = 6.24, MSE = 6.24\n",
      "k = 140, norm = 8.53, MSE = 8.53\n",
      "k = 141, norm = 5.28, MSE = 5.28\n",
      "k = 142, norm = 12.43, MSE = 12.43\n",
      "k = 143, norm = 6.14, MSE = 6.14\n",
      "k = 144, norm = 8.47, MSE = 8.47\n",
      "k = 145, norm = 5.23, MSE = 5.23\n",
      "k = 146, norm = 12.53, MSE = 12.53\n",
      "k = 147, norm = 6.10, MSE = 6.10\n",
      "k = 148, norm = 8.68, MSE = 8.68\n",
      "k = 149, norm = 5.10, MSE = 5.10\n",
      "k = 150, norm = 6.28, MSE = 6.28\n",
      "k = 151, norm = 8.99, MSE = 8.99\n",
      "k = 152, norm = 5.19, MSE = 5.19\n",
      "k = 153, norm = 6.54, MSE = 6.54\n",
      "k = 154, norm = 4.55, MSE = 4.55\n",
      "k = 155, norm = 9.09, MSE = 9.09\n",
      "k = 156, norm = 5.16, MSE = 5.16\n",
      "k = 157, norm = 6.96, MSE = 6.96\n",
      "k = 158, norm = 4.62, MSE = 4.62\n",
      "k = 159, norm = 9.89, MSE = 9.89\n",
      "k = 160, norm = 5.31, MSE = 5.31\n",
      "k = 161, norm = 7.16, MSE = 7.16\n",
      "k = 162, norm = 4.67, MSE = 4.67\n",
      "k = 163, norm = 10.86, MSE = 10.86\n",
      "k = 164, norm = 5.53, MSE = 5.53\n",
      "k = 165, norm = 7.69, MSE = 7.69\n",
      "k = 166, norm = 4.68, MSE = 4.68\n",
      "k = 167, norm = 10.72, MSE = 10.72\n",
      "k = 168, norm = 5.41, MSE = 5.41\n",
      "k = 169, norm = 7.41, MSE = 7.41\n",
      "k = 170, norm = 4.61, MSE = 4.61\n",
      "k = 171, norm = 10.96, MSE = 10.96\n",
      "k = 172, norm = 5.58, MSE = 5.58\n",
      "k = 173, norm = 7.76, MSE = 7.76\n",
      "k = 174, norm = 4.62, MSE = 4.62\n",
      "k = 175, norm = 5.79, MSE = 5.79\n",
      "k = 176, norm = 8.28, MSE = 8.28\n",
      "k = 177, norm = 4.73, MSE = 4.73\n",
      "k = 178, norm = 5.98, MSE = 5.98\n",
      "k = 179, norm = 4.23, MSE = 4.23\n",
      "k = 180, norm = 8.41, MSE = 8.41\n",
      "k = 181, norm = 4.69, MSE = 4.69\n",
      "k = 182, norm = 6.13, MSE = 6.13\n",
      "k = 183, norm = 4.18, MSE = 4.18\n",
      "k = 184, norm = 8.30, MSE = 8.30\n",
      "k = 185, norm = 4.78, MSE = 4.78\n",
      "k = 186, norm = 6.10, MSE = 6.10\n",
      "k = 187, norm = 4.17, MSE = 4.17\n",
      "k = 188, norm = 8.71, MSE = 8.71\n",
      "k = 189, norm = 4.74, MSE = 4.74\n",
      "k = 190, norm = 6.23, MSE = 6.23\n",
      "k = 191, norm = 4.40, MSE = 4.40\n",
      "k = 192, norm = 9.49, MSE = 9.49\n",
      "k = 193, norm = 5.01, MSE = 5.01\n",
      "k = 194, norm = 6.80, MSE = 6.80\n",
      "k = 195, norm = 4.34, MSE = 4.34\n",
      "k = 196, norm = 10.05, MSE = 10.05\n",
      "k = 197, norm = 5.09, MSE = 5.09\n",
      "k = 198, norm = 7.03, MSE = 7.03\n",
      "k = 199, norm = 4.47, MSE = 4.47\n",
      "k = 200, norm = 10.59, MSE = 10.59\n",
      "k = 201, norm = 5.33, MSE = 5.33\n",
      "k = 202, norm = 7.47, MSE = 7.47\n",
      "k = 203, norm = 4.50, MSE = 4.50\n",
      "k = 204, norm = 10.99, MSE = 10.99\n",
      "k = 205, norm = 5.23, MSE = 5.23\n",
      "k = 206, norm = 7.36, MSE = 7.36\n",
      "k = 207, norm = 4.47, MSE = 4.47\n",
      "k = 208, norm = 11.13, MSE = 11.13\n",
      "k = 209, norm = 5.45, MSE = 5.45\n",
      "k = 210, norm = 7.81, MSE = 7.81\n",
      "k = 211, norm = 4.60, MSE = 4.60\n",
      "k = 212, norm = 5.94, MSE = 5.94\n",
      "k = 213, norm = 4.16, MSE = 4.16\n",
      "k = 214, norm = 8.49, MSE = 8.49\n",
      "k = 215, norm = 4.84, MSE = 4.84\n",
      "k = 216, norm = 6.51, MSE = 6.51\n",
      "k = 217, norm = 4.27, MSE = 4.27\n",
      "k = 218, norm = 9.42, MSE = 9.42\n",
      "k = 219, norm = 4.88, MSE = 4.88\n",
      "k = 220, norm = 6.62, MSE = 6.62\n",
      "k = 221, norm = 4.30, MSE = 4.30\n",
      "k = 222, norm = 9.94, MSE = 9.94\n",
      "k = 223, norm = 5.19, MSE = 5.19\n",
      "k = 224, norm = 7.15, MSE = 7.15\n",
      "k = 225, norm = 4.28, MSE = 4.28\n",
      "k = 226, norm = 10.21, MSE = 10.21\n",
      "k = 227, norm = 5.12, MSE = 5.12\n",
      "k = 228, norm = 7.12, MSE = 7.12\n",
      "k = 229, norm = 4.29, MSE = 4.29\n",
      "k = 230, norm = 10.05, MSE = 10.05\n",
      "k = 231, norm = 5.08, MSE = 5.08\n",
      "k = 232, norm = 6.96, MSE = 6.96\n",
      "k = 233, norm = 4.30, MSE = 4.30\n",
      "k = 234, norm = 9.93, MSE = 9.93\n",
      "k = 235, norm = 4.99, MSE = 4.99\n"
     ]
    },
    {
     "name": "stdout",
     "output_type": "stream",
     "text": [
      "k = 236, norm = 6.88, MSE = 6.88\n",
      "k = 237, norm = 4.30, MSE = 4.30\n",
      "k = 238, norm = 9.87, MSE = 9.87\n",
      "k = 239, norm = 5.08, MSE = 5.08\n",
      "k = 240, norm = 7.01, MSE = 7.01\n",
      "k = 241, norm = 4.23, MSE = 4.23\n",
      "k = 242, norm = 10.11, MSE = 10.11\n",
      "k = 243, norm = 5.18, MSE = 5.18\n",
      "k = 244, norm = 7.19, MSE = 7.19\n",
      "k = 245, norm = 4.41, MSE = 4.41\n",
      "k = 246, norm = 5.61, MSE = 5.61\n",
      "k = 247, norm = 3.99, MSE = 3.99\n",
      "k = 248, norm = 7.82, MSE = 7.82\n",
      "k = 249, norm = 4.56, MSE = 4.56\n",
      "k = 250, norm = 5.86, MSE = 5.86\n",
      "k = 251, norm = 4.10, MSE = 4.10\n",
      "k = 252, norm = 8.40, MSE = 8.40\n",
      "k = 253, norm = 4.65, MSE = 4.65\n",
      "k = 254, norm = 6.04, MSE = 6.04\n",
      "k = 255, norm = 4.15, MSE = 4.15\n",
      "k = 256, norm = 8.93, MSE = 8.93\n",
      "k = 257, norm = 4.87, MSE = 4.87\n",
      "k = 258, norm = 6.47, MSE = 6.47\n",
      "k = 259, norm = 4.28, MSE = 4.28\n",
      "k = 260, norm = 9.81, MSE = 9.81\n",
      "k = 261, norm = 4.99, MSE = 4.99\n",
      "k = 262, norm = 6.94, MSE = 6.94\n",
      "k = 263, norm = 4.25, MSE = 4.25\n",
      "k = 264, norm = 10.02, MSE = 10.02\n",
      "k = 265, norm = 5.02, MSE = 5.02\n",
      "k = 266, norm = 6.99, MSE = 6.99\n",
      "k = 267, norm = 4.38, MSE = 4.38\n",
      "k = 268, norm = 10.74, MSE = 10.74\n",
      "k = 269, norm = 5.30, MSE = 5.30\n",
      "k = 270, norm = 7.57, MSE = 7.57\n",
      "k = 271, norm = 4.39, MSE = 4.39\n",
      "k = 272, norm = 5.61, MSE = 5.61\n",
      "k = 273, norm = 3.98, MSE = 3.98\n",
      "k = 274, norm = 7.59, MSE = 7.59\n",
      "k = 275, norm = 4.51, MSE = 4.51\n",
      "k = 276, norm = 5.81, MSE = 5.81\n",
      "k = 277, norm = 4.02, MSE = 4.02\n",
      "k = 278, norm = 8.43, MSE = 8.43\n",
      "k = 279, norm = 4.71, MSE = 4.71\n",
      "k = 280, norm = 6.30, MSE = 6.30\n",
      "k = 281, norm = 4.14, MSE = 4.14\n",
      "k = 282, norm = 9.17, MSE = 9.17\n",
      "k = 283, norm = 4.90, MSE = 4.90\n",
      "k = 284, norm = 6.69, MSE = 6.69\n",
      "k = 285, norm = 4.23, MSE = 4.23\n",
      "k = 286, norm = 9.65, MSE = 9.65\n",
      "k = 287, norm = 4.97, MSE = 4.97\n",
      "k = 288, norm = 6.96, MSE = 6.96\n",
      "k = 289, norm = 4.33, MSE = 4.33\n",
      "k = 290, norm = 10.49, MSE = 10.49\n",
      "k = 291, norm = 5.22, MSE = 5.22\n",
      "k = 292, norm = 7.46, MSE = 7.46\n",
      "k = 293, norm = 4.37, MSE = 4.37\n",
      "k = 294, norm = 5.37, MSE = 5.37\n",
      "k = 295, norm = 7.74, MSE = 7.74\n",
      "k = 296, norm = 4.48, MSE = 4.48\n",
      "k = 297, norm = 5.47, MSE = 5.47\n",
      "k = 298, norm = 4.04, MSE = 4.04\n",
      "k = 299, norm = 8.53, MSE = 8.53\n",
      "k = 300, norm = 4.72, MSE = 4.72\n",
      "k = 301, norm = 6.37, MSE = 6.37\n",
      "k = 302, norm = 4.12, MSE = 4.12\n",
      "k = 303, norm = 9.72, MSE = 9.72\n",
      "k = 304, norm = 4.92, MSE = 4.92\n",
      "k = 305, norm = 6.71, MSE = 6.71\n",
      "k = 306, norm = 4.16, MSE = 4.16\n",
      "k = 307, norm = 5.35, MSE = 5.35\n",
      "k = 308, norm = 7.70, MSE = 7.70\n",
      "k = 309, norm = 4.42, MSE = 4.42\n",
      "k = 310, norm = 5.76, MSE = 5.76\n",
      "k = 311, norm = 3.99, MSE = 3.99\n",
      "k = 312, norm = 7.83, MSE = 7.83\n",
      "k = 313, norm = 4.43, MSE = 4.43\n",
      "k = 314, norm = 5.77, MSE = 5.77\n",
      "k = 315, norm = 4.07, MSE = 4.07\n",
      "k = 316, norm = 8.38, MSE = 8.38\n",
      "k = 317, norm = 4.49, MSE = 4.49\n",
      "k = 318, norm = 5.91, MSE = 5.91\n",
      "k = 319, norm = 4.13, MSE = 4.13\n",
      "k = 320, norm = 8.95, MSE = 8.95\n",
      "k = 321, norm = 4.63, MSE = 4.63\n",
      "k = 322, norm = 6.19, MSE = 6.19\n",
      "k = 323, norm = 4.17, MSE = 4.17\n",
      "k = 324, norm = 9.36, MSE = 9.36\n",
      "k = 325, norm = 4.87, MSE = 4.87\n",
      "k = 326, norm = 6.64, MSE = 6.64\n",
      "k = 327, norm = 4.19, MSE = 4.19\n",
      "k = 328, norm = 10.05, MSE = 10.05\n",
      "k = 329, norm = 5.01, MSE = 5.01\n",
      "k = 330, norm = 6.98, MSE = 6.98\n",
      "k = 331, norm = 4.36, MSE = 4.36\n",
      "k = 332, norm = 5.43, MSE = 5.43\n",
      "k = 333, norm = 3.88, MSE = 3.88\n",
      "k = 334, norm = 7.39, MSE = 7.39\n",
      "k = 335, norm = 4.34, MSE = 4.34\n",
      "k = 336, norm = 5.61, MSE = 5.61\n",
      "k = 337, norm = 3.98, MSE = 3.98\n",
      "k = 338, norm = 8.49, MSE = 8.49\n",
      "k = 339, norm = 4.43, MSE = 4.43\n",
      "k = 340, norm = 5.80, MSE = 5.80\n",
      "k = 341, norm = 4.00, MSE = 4.00\n",
      "k = 342, norm = 8.09, MSE = 8.09\n",
      "k = 343, norm = 4.46, MSE = 4.46\n",
      "k = 344, norm = 5.87, MSE = 5.87\n",
      "k = 345, norm = 4.02, MSE = 4.02\n",
      "k = 346, norm = 8.63, MSE = 8.63\n",
      "k = 347, norm = 4.64, MSE = 4.64\n",
      "k = 348, norm = 6.21, MSE = 6.21\n",
      "k = 349, norm = 4.10, MSE = 4.10\n",
      "k = 350, norm = 9.17, MSE = 9.17\n",
      "k = 351, norm = 4.76, MSE = 4.76\n",
      "k = 352, norm = 6.58, MSE = 6.58\n",
      "k = 353, norm = 4.18, MSE = 4.18\n",
      "k = 354, norm = 10.00, MSE = 10.00\n",
      "k = 355, norm = 4.94, MSE = 4.94\n",
      "k = 356, norm = 7.02, MSE = 7.02\n",
      "k = 357, norm = 4.18, MSE = 4.18\n",
      "k = 358, norm = 10.27, MSE = 10.27\n",
      "k = 359, norm = 5.12, MSE = 5.12\n",
      "k = 360, norm = 7.35, MSE = 7.35\n",
      "k = 361, norm = 4.34, MSE = 4.34\n",
      "k = 362, norm = 5.54, MSE = 5.54\n",
      "k = 363, norm = 3.78, MSE = 3.78\n",
      "k = 364, norm = 7.77, MSE = 7.77\n",
      "k = 365, norm = 4.51, MSE = 4.51\n",
      "k = 366, norm = 5.95, MSE = 5.95\n",
      "k = 367, norm = 3.98, MSE = 3.98\n",
      "k = 368, norm = 8.45, MSE = 8.45\n",
      "k = 369, norm = 4.67, MSE = 4.67\n",
      "k = 370, norm = 6.30, MSE = 6.30\n",
      "k = 371, norm = 4.07, MSE = 4.07\n",
      "k = 372, norm = 9.78, MSE = 9.78\n",
      "k = 373, norm = 4.92, MSE = 4.92\n",
      "k = 374, norm = 6.88, MSE = 6.88\n",
      "k = 375, norm = 4.24, MSE = 4.24\n",
      "k = 376, norm = 5.27, MSE = 5.27\n",
      "k = 377, norm = 3.87, MSE = 3.87\n",
      "k = 378, norm = 7.68, MSE = 7.68\n",
      "k = 379, norm = 4.37, MSE = 4.37\n",
      "k = 380, norm = 5.65, MSE = 5.65\n",
      "k = 381, norm = 3.95, MSE = 3.95\n",
      "k = 382, norm = 8.43, MSE = 8.43\n",
      "k = 383, norm = 4.60, MSE = 4.60\n",
      "k = 384, norm = 6.34, MSE = 6.34\n",
      "k = 385, norm = 4.05, MSE = 4.05\n",
      "k = 386, norm = 9.33, MSE = 9.33\n",
      "k = 387, norm = 4.71, MSE = 4.71\n",
      "k = 388, norm = 6.43, MSE = 6.43\n",
      "k = 389, norm = 4.02, MSE = 4.02\n",
      "k = 390, norm = 9.13, MSE = 9.13\n",
      "k = 391, norm = 4.61, MSE = 4.61\n",
      "k = 392, norm = 6.24, MSE = 6.24\n",
      "k = 393, norm = 4.06, MSE = 4.06\n",
      "k = 394, norm = 9.20, MSE = 9.20\n",
      "k = 395, norm = 4.67, MSE = 4.67\n",
      "k = 396, norm = 6.50, MSE = 6.50\n",
      "k = 397, norm = 4.10, MSE = 4.10\n",
      "k = 398, norm = 10.15, MSE = 10.15\n",
      "k = 399, norm = 4.98, MSE = 4.98\n",
      "k = 400, norm = 7.25, MSE = 7.25\n",
      "k = 401, norm = 4.31, MSE = 4.31\n",
      "k = 402, norm = 5.48, MSE = 5.48\n",
      "k = 403, norm = 3.79, MSE = 3.79\n",
      "k = 404, norm = 7.85, MSE = 7.85\n",
      "k = 405, norm = 4.42, MSE = 4.42\n",
      "k = 406, norm = 5.73, MSE = 5.73\n",
      "k = 407, norm = 3.90, MSE = 3.90\n",
      "k = 408, norm = 8.18, MSE = 8.18\n",
      "k = 409, norm = 4.39, MSE = 4.39\n",
      "k = 410, norm = 5.67, MSE = 5.67\n",
      "k = 411, norm = 3.87, MSE = 3.87\n",
      "k = 412, norm = 8.75, MSE = 8.75\n",
      "k = 413, norm = 4.56, MSE = 4.56\n",
      "k = 414, norm = 6.27, MSE = 6.27\n",
      "k = 415, norm = 3.90, MSE = 3.90\n",
      "k = 416, norm = 9.06, MSE = 9.06\n",
      "k = 417, norm = 4.62, MSE = 4.62\n",
      "k = 418, norm = 6.24, MSE = 6.24\n",
      "k = 419, norm = 3.94, MSE = 3.94\n",
      "k = 420, norm = 9.13, MSE = 9.13\n",
      "k = 421, norm = 4.56, MSE = 4.56\n",
      "k = 422, norm = 6.27, MSE = 6.27\n",
      "k = 423, norm = 3.96, MSE = 3.96\n",
      "k = 424, norm = 9.38, MSE = 9.38\n",
      "k = 425, norm = 4.93, MSE = 4.93\n",
      "k = 426, norm = 7.04, MSE = 7.04\n",
      "k = 427, norm = 4.13, MSE = 4.13\n",
      "k = 428, norm = 5.19, MSE = 5.19\n",
      "k = 429, norm = 3.80, MSE = 3.80\n",
      "k = 430, norm = 7.76, MSE = 7.76\n",
      "k = 431, norm = 4.40, MSE = 4.40\n",
      "k = 432, norm = 6.02, MSE = 6.02\n",
      "k = 433, norm = 4.04, MSE = 4.04\n",
      "k = 434, norm = 9.79, MSE = 9.79\n",
      "k = 435, norm = 4.74, MSE = 4.74\n",
      "k = 436, norm = 6.71, MSE = 6.71\n",
      "k = 437, norm = 4.04, MSE = 4.04\n",
      "k = 438, norm = 9.88, MSE = 9.88\n",
      "k = 439, norm = 4.81, MSE = 4.81\n",
      "k = 440, norm = 6.77, MSE = 6.77\n",
      "k = 441, norm = 3.92, MSE = 3.92\n",
      "k = 442, norm = 9.71, MSE = 9.71\n",
      "k = 443, norm = 4.74, MSE = 4.74\n",
      "k = 444, norm = 6.76, MSE = 6.76\n",
      "k = 445, norm = 3.98, MSE = 3.98\n",
      "k = 446, norm = 5.02, MSE = 5.02\n",
      "k = 447, norm = 7.23, MSE = 7.23\n",
      "k = 448, norm = 4.16, MSE = 4.16\n",
      "k = 449, norm = 5.23, MSE = 5.23\n",
      "k = 450, norm = 3.78, MSE = 3.78\n",
      "k = 451, norm = 7.42, MSE = 7.42\n",
      "k = 452, norm = 4.17, MSE = 4.17\n",
      "k = 453, norm = 5.42, MSE = 5.42\n",
      "k = 454, norm = 3.75, MSE = 3.75\n",
      "k = 455, norm = 7.73, MSE = 7.73\n",
      "k = 456, norm = 4.20, MSE = 4.20\n",
      "k = 457, norm = 5.61, MSE = 5.61\n",
      "k = 458, norm = 3.78, MSE = 3.78\n",
      "k = 459, norm = 8.43, MSE = 8.43\n",
      "k = 460, norm = 4.39, MSE = 4.39\n",
      "k = 461, norm = 5.64, MSE = 5.64\n",
      "k = 462, norm = 3.79, MSE = 3.79\n",
      "k = 463, norm = 8.08, MSE = 8.08\n",
      "k = 464, norm = 4.43, MSE = 4.43\n",
      "k = 465, norm = 5.95, MSE = 5.95\n",
      "k = 466, norm = 3.90, MSE = 3.90\n",
      "k = 467, norm = 8.35, MSE = 8.35\n",
      "k = 468, norm = 4.47, MSE = 4.47\n",
      "k = 469, norm = 5.95, MSE = 5.95\n",
      "k = 470, norm = 3.82, MSE = 3.82\n",
      "k = 471, norm = 8.58, MSE = 8.58\n",
      "k = 472, norm = 4.38, MSE = 4.38\n",
      "k = 473, norm = 5.72, MSE = 5.72\n",
      "k = 474, norm = 3.78, MSE = 3.78\n",
      "k = 475, norm = 8.42, MSE = 8.42\n",
      "k = 476, norm = 4.39, MSE = 4.39\n",
      "k = 477, norm = 6.04, MSE = 6.04\n",
      "k = 478, norm = 3.84, MSE = 3.84\n",
      "k = 479, norm = 8.81, MSE = 8.81\n",
      "k = 480, norm = 4.51, MSE = 4.51\n",
      "k = 481, norm = 6.19, MSE = 6.19\n",
      "k = 482, norm = 3.94, MSE = 3.94\n",
      "k = 483, norm = 9.07, MSE = 9.07\n"
     ]
    },
    {
     "name": "stdout",
     "output_type": "stream",
     "text": [
      "k = 484, norm = 4.58, MSE = 4.58\n",
      "k = 485, norm = 6.35, MSE = 6.35\n",
      "k = 486, norm = 3.91, MSE = 3.91\n",
      "k = 487, norm = 9.25, MSE = 9.25\n",
      "k = 488, norm = 4.63, MSE = 4.63\n",
      "k = 489, norm = 6.57, MSE = 6.57\n",
      "k = 490, norm = 3.95, MSE = 3.95\n",
      "k = 491, norm = 5.08, MSE = 5.08\n",
      "k = 492, norm = 3.57, MSE = 3.57\n",
      "k = 493, norm = 7.58, MSE = 7.58\n",
      "k = 494, norm = 4.15, MSE = 4.15\n",
      "k = 495, norm = 5.51, MSE = 5.51\n",
      "k = 496, norm = 3.80, MSE = 3.80\n",
      "k = 497, norm = 8.26, MSE = 8.26\n",
      "k = 498, norm = 4.39, MSE = 4.39\n",
      "k = 499, norm = 6.05, MSE = 6.05\n",
      "k = 500, norm = 3.95, MSE = 3.95\n"
     ]
    }
   ],
   "source": [
    "# Calculation of polynomial regression with degree 2\n",
    "degree = 2\n",
    "# Using alpha = 0.02 as a learning rate\n",
    "w_optim_002    = gradientDescent(0.1, degree, training_dataset, alpha  = 0.02)\n",
    "print(\"=====================\")\n",
    "# Armijo's learning rate\n",
    "w_optim_armijo = gradientDescent(0.1, degree, training_dataset, armij = True)"
   ]
  },
  {
   "cell_type": "code",
   "execution_count": 283,
   "metadata": {},
   "outputs": [
    {
     "data": {
      "text/plain": [
       "array([  48503.04903812,  -98383.61511356, 2418041.62214976])"
      ]
     },
     "execution_count": 283,
     "metadata": {},
     "output_type": "execute_result"
    }
   ],
   "source": [
    "w_optim_002"
   ]
  },
  {
   "cell_type": "code",
   "execution_count": 284,
   "metadata": {},
   "outputs": [
    {
     "data": {
      "text/plain": [
       "1.6346825524226044e+16"
      ]
     },
     "execution_count": 284,
     "metadata": {},
     "output_type": "execute_result"
    }
   ],
   "source": [
    "MSE(w_optim_002,training_dataset)"
   ]
  },
  {
   "cell_type": "code",
   "execution_count": 285,
   "metadata": {},
   "outputs": [
    {
     "data": {
      "text/plain": [
       "array([-0.90601748,  3.61300767,  1.79415149])"
      ]
     },
     "execution_count": 285,
     "metadata": {},
     "output_type": "execute_result"
    }
   ],
   "source": [
    "w_optim_armijo"
   ]
  },
  {
   "cell_type": "code",
   "execution_count": 286,
   "metadata": {},
   "outputs": [
    {
     "data": {
      "text/plain": [
       "9653.745705116098"
      ]
     },
     "execution_count": 286,
     "metadata": {},
     "output_type": "execute_result"
    }
   ],
   "source": [
    "MSE(w_optim_armijo,training_dataset)"
   ]
  },
  {
   "cell_type": "markdown",
   "metadata": {},
   "source": [
    "# Plot function"
   ]
  },
  {
   "cell_type": "code",
   "execution_count": 287,
   "metadata": {},
   "outputs": [
    {
     "data": {
      "image/png": "[encoded data removed]",
      "text/plain": [
       "<Figure size 432x288 with 1 Axes>"
      ]
     },
     "metadata": {
      "needs_background": "light"
     },
     "output_type": "display_data"
    }
   ],
   "source": [
    "# alpha  = 0.01\n",
    "plot_h(w_optim_002,training_dataset)"
   ]
  },
  {
   "cell_type": "code",
   "execution_count": 288,
   "metadata": {},
   "outputs": [
    {
     "data": {
      "image/png": "[encoded data removed]",
      "text/plain": [
       "<Figure size 432x288 with 1 Axes>"
      ]
     },
     "metadata": {
      "needs_background": "light"
     },
     "output_type": "display_data"
    }
   ],
   "source": [
    "# armijo\n",
    "plot_h(w_optim_armijo,training_dataset)"
   ]
  },
  {
   "cell_type": "markdown",
   "metadata": {},
   "source": [
    "# Question6: Now, evaluate your models with the testing dataset and return the generalization error. "
   ]
  },
  {
   "cell_type": "code",
   "execution_count": 295,
   "metadata": {},
   "outputs": [
    {
     "name": "stdout",
     "output_type": "stream",
     "text": [
      "MSE = 23045592350168776.00\n",
      "MSE = 9608.76\n"
     ]
    }
   ],
   "source": [
    "# Calculation of the general error for our 4 models\n",
    "# the model with alpha = 0.02\n",
    "MSE_alpha002 = MSE(w_optim_002   , testing_dataset)\n",
    "print(\"MSE = {0:.2f}\".format(MSE_alpha002))\n",
    "# the model with armijo learning rate\n",
    "MSE_armijo   = MSE(w_optim_armijo, testing_dataset)\n",
    "print(\"MSE = {0:.2f}\".format(MSE_armijo))"
   ]
  },
  {
   "cell_type": "markdown",
   "metadata": {},
   "source": [
    "Calculation of the bias and variance"
   ]
  },
  {
   "cell_type": "code",
   "execution_count": 254,
   "metadata": {},
   "outputs": [],
   "source": [
    "# Bias\n",
    "def bias(w,d_set):\n",
    "    Bias = 0\n",
    "    for i in range(len(d_set)):\n",
    "        Bias = Bias + pow(h(d_set['x'][i],w) - d_set['y'][i],2)\n",
    "    return np.sqrt(Bias)\n",
    "# Variance\n",
    "def variance(w,d_set):\n",
    "    mean_Ypred = 0\n",
    "    for i in range(len(d_set)):\n",
    "        mean_Ypred = mean_Ypred + h(d_set['x'][i],w)\n",
    "    mean_Ypred = mean_Ypred/len(d_set)\n",
    "    Var = 0\n",
    "    for i in range(len(d_set)):\n",
    "        Var = Var + pow(h(d_set['x'][i],w) - mean_Ypred,2)\n",
    "    return Var/len(d_set)"
   ]
  },
  {
   "cell_type": "code",
   "execution_count": 257,
   "metadata": {},
   "outputs": [
    {
     "name": "stdout",
     "output_type": "stream",
     "text": [
      "model 1 Bias = 2009582102.29\n",
      "model 2 Bias = 1456.79\n"
     ]
    }
   ],
   "source": [
    "print(\"model 1 Bias = {0:.2f}\".format(bias(w_optim_002,dataframe)))\n",
    "print(\"model 2 Bias = {0:.2f}\".format(bias(w_optim_armijo,dataframe)))"
   ]
  },
  {
   "cell_type": "code",
   "execution_count": 258,
   "metadata": {},
   "outputs": [
    {
     "name": "stdout",
     "output_type": "stream",
     "text": [
      "model 1 Variance = 8423776315612232.00\n",
      "model 2 Variance = 6077.58\n"
     ]
    }
   ],
   "source": [
    "print(\"model 1 Variance = {0:.2f}\".format(variance(w_optim_002,dataframe)))\n",
    "print(\"model 2 Variance = {0:.2f}\".format(variance(w_optim_armijo,dataframe)))"
   ]
  },
  {
   "cell_type": "markdown",
   "metadata": {},
   "source": [
    "# Question8: Now, choose two other values of degree k, fit and evaluate your models."
   ]
  },
  {
   "cell_type": "code",
   "execution_count": 296,
   "metadata": {
    "scrolled": false
   },
   "outputs": [
    {
     "name": "stdout",
     "output_type": "stream",
     "text": [
      "k = 0, norm = 57489.68, MSE = 57489.68\n",
      "k = 1, norm = 575543400.31, MSE = 575543400.31\n",
      "k = 0, norm = 57489.68, MSE = 57489.68\n",
      "k = 1, norm = 8314.64, MSE = 8314.64\n",
      "k = 2, norm = 29698.52, MSE = 29698.52\n",
      "k = 3, norm = 6935.03, MSE = 6935.03\n",
      "k = 4, norm = 30720.13, MSE = 30720.13\n",
      "k = 5, norm = 4979.45, MSE = 4979.45\n",
      "k = 6, norm = 15942.48, MSE = 15942.48\n",
      "k = 7, norm = 4170.03, MSE = 4170.03\n",
      "k = 8, norm = 16424.86, MSE = 16424.86\n",
      "k = 9, norm = 2986.47, MSE = 2986.47\n",
      "k = 10, norm = 17095.51, MSE = 17095.51\n",
      "k = 11, norm = 2163.26, MSE = 2163.26\n",
      "k = 12, norm = 8791.20, MSE = 8791.20\n",
      "k = 13, norm = 1793.68, MSE = 1793.68\n",
      "k = 14, norm = 9127.08, MSE = 9127.08\n",
      "k = 15, norm = 1294.28, MSE = 1294.28\n",
      "k = 16, norm = 4710.50, MSE = 4710.50\n",
      "k = 17, norm = 1079.45, MSE = 1079.45\n",
      "k = 18, norm = 4874.95, MSE = 4874.95\n",
      "k = 19, norm = 777.34, MSE = 777.34\n",
      "k = 20, norm = 2527.79, MSE = 2527.79\n",
      "k = 21, norm = 651.83, MSE = 651.83\n",
      "k = 22, norm = 2605.06, MSE = 2605.06\n",
      "k = 23, norm = 470.25, MSE = 470.25\n",
      "k = 24, norm = 2709.92, MSE = 2709.92\n",
      "k = 25, norm = 344.88, MSE = 344.88\n",
      "k = 26, norm = 1394.87, MSE = 1394.87\n",
      "k = 27, norm = 288.95, MSE = 288.95\n",
      "k = 28, norm = 1449.09, MSE = 1449.09\n",
      "k = 29, norm = 215.45, MSE = 215.45\n",
      "k = 30, norm = 753.83, MSE = 753.83\n",
      "k = 31, norm = 184.27, MSE = 184.27\n",
      "k = 32, norm = 783.95, MSE = 783.95\n",
      "k = 33, norm = 143.02, MSE = 143.02\n",
      "k = 34, norm = 817.88, MSE = 817.88\n",
      "k = 35, norm = 117.10, MSE = 117.10\n",
      "k = 36, norm = 424.79, MSE = 424.79\n",
      "k = 37, norm = 105.92, MSE = 105.92\n",
      "k = 38, norm = 884.06, MSE = 884.06\n",
      "k = 39, norm = 88.61, MSE = 88.61\n",
      "k = 40, norm = 223.46, MSE = 223.46\n",
      "k = 41, norm = 82.54, MSE = 82.54\n",
      "k = 42, norm = 887.67, MSE = 887.67\n",
      "k = 43, norm = 83.28, MSE = 83.28\n",
      "k = 44, norm = 223.09, MSE = 223.09\n",
      "k = 45, norm = 77.56, MSE = 77.56\n",
      "k = 46, norm = 899.47, MSE = 899.47\n",
      "k = 47, norm = 83.05, MSE = 83.05\n",
      "k = 48, norm = 225.05, MSE = 225.05\n",
      "k = 49, norm = 77.24, MSE = 77.24\n",
      "k = 50, norm = 918.91, MSE = 918.91\n",
      "k = 51, norm = 83.04, MSE = 83.04\n",
      "k = 52, norm = 229.16, MSE = 229.16\n",
      "k = 53, norm = 76.93, MSE = 76.93\n",
      "k = 54, norm = 937.78, MSE = 937.78\n",
      "k = 55, norm = 83.11, MSE = 83.11\n",
      "k = 56, norm = 233.56, MSE = 233.56\n",
      "k = 57, norm = 76.66, MSE = 76.66\n",
      "k = 58, norm = 944.32, MSE = 944.32\n",
      "k = 59, norm = 82.90, MSE = 82.90\n",
      "k = 60, norm = 235.11, MSE = 235.11\n",
      "k = 61, norm = 76.30, MSE = 76.30\n",
      "k = 62, norm = 950.83, MSE = 950.83\n",
      "k = 63, norm = 82.70, MSE = 82.70\n",
      "k = 64, norm = 235.86, MSE = 235.86\n",
      "k = 65, norm = 76.06, MSE = 76.06\n",
      "k = 66, norm = 961.74, MSE = 961.74\n",
      "k = 67, norm = 82.59, MSE = 82.59\n",
      "k = 68, norm = 237.58, MSE = 237.58\n",
      "k = 69, norm = 75.77, MSE = 75.77\n",
      "k = 70, norm = 969.85, MSE = 969.85\n",
      "k = 71, norm = 82.53, MSE = 82.53\n",
      "k = 72, norm = 241.54, MSE = 241.54\n",
      "k = 73, norm = 75.60, MSE = 75.60\n",
      "k = 74, norm = 980.69, MSE = 980.69\n",
      "k = 75, norm = 82.49, MSE = 82.49\n",
      "k = 76, norm = 241.93, MSE = 241.93\n",
      "k = 77, norm = 75.36, MSE = 75.36\n",
      "k = 78, norm = 1000.74, MSE = 1000.74\n",
      "k = 79, norm = 82.50, MSE = 82.50\n",
      "k = 80, norm = 247.39, MSE = 247.39\n",
      "k = 81, norm = 75.19, MSE = 75.19\n",
      "k = 82, norm = 514.43, MSE = 514.43\n",
      "k = 83, norm = 76.72, MSE = 76.72\n",
      "k = 84, norm = 268.58, MSE = 268.58\n",
      "k = 85, norm = 75.13, MSE = 75.13\n",
      "k = 86, norm = 567.60, MSE = 567.60\n",
      "k = 87, norm = 76.98, MSE = 76.98\n",
      "k = 88, norm = 293.75, MSE = 293.75\n",
      "k = 89, norm = 75.02, MSE = 75.02\n",
      "k = 90, norm = 610.11, MSE = 610.11\n",
      "k = 91, norm = 77.31, MSE = 77.31\n",
      "k = 92, norm = 316.67, MSE = 316.67\n",
      "k = 93, norm = 74.92, MSE = 74.92\n",
      "k = 94, norm = 657.41, MSE = 657.41\n",
      "k = 95, norm = 77.55, MSE = 77.55\n",
      "k = 96, norm = 339.17, MSE = 339.17\n",
      "k = 97, norm = 75.07, MSE = 75.07\n",
      "k = 98, norm = 361.38, MSE = 361.38\n",
      "k = 99, norm = 75.05, MSE = 75.05\n",
      "k = 100, norm = 379.99, MSE = 379.99\n",
      "k = 101, norm = 75.09, MSE = 75.09\n",
      "k = 102, norm = 398.31, MSE = 398.31\n",
      "k = 103, norm = 75.09, MSE = 75.09\n",
      "k = 104, norm = 417.95, MSE = 417.95\n",
      "k = 105, norm = 75.15, MSE = 75.15\n",
      "k = 106, norm = 438.83, MSE = 438.83\n",
      "k = 107, norm = 75.22, MSE = 75.22\n",
      "k = 108, norm = 464.34, MSE = 464.34\n",
      "k = 109, norm = 75.45, MSE = 75.45\n",
      "k = 110, norm = 485.17, MSE = 485.17\n",
      "k = 111, norm = 75.50, MSE = 75.50\n",
      "k = 112, norm = 253.16, MSE = 253.16\n",
      "k = 113, norm = 73.94, MSE = 73.94\n",
      "k = 114, norm = 512.91, MSE = 512.91\n",
      "k = 115, norm = 75.62, MSE = 75.62\n",
      "k = 116, norm = 267.93, MSE = 267.93\n",
      "k = 117, norm = 73.83, MSE = 73.83\n",
      "k = 118, norm = 551.69, MSE = 551.69\n",
      "k = 119, norm = 75.70, MSE = 75.70\n",
      "k = 120, norm = 286.77, MSE = 286.77\n",
      "k = 121, norm = 73.86, MSE = 73.86\n",
      "k = 122, norm = 596.62, MSE = 596.62\n",
      "k = 123, norm = 75.91, MSE = 75.91\n",
      "k = 124, norm = 307.83, MSE = 307.83\n",
      "k = 125, norm = 73.78, MSE = 73.78\n",
      "k = 126, norm = 633.48, MSE = 633.48\n",
      "k = 127, norm = 76.23, MSE = 76.23\n",
      "k = 128, norm = 326.37, MSE = 326.37\n",
      "k = 129, norm = 73.84, MSE = 73.84\n",
      "k = 130, norm = 687.44, MSE = 687.44\n",
      "k = 131, norm = 76.65, MSE = 76.65\n",
      "k = 132, norm = 177.42, MSE = 177.42\n",
      "k = 133, norm = 73.03, MSE = 73.03\n",
      "k = 134, norm = 713.37, MSE = 713.37\n",
      "k = 135, norm = 76.66, MSE = 76.66\n",
      "k = 136, norm = 182.76, MSE = 182.76\n",
      "k = 137, norm = 72.70, MSE = 72.70\n",
      "k = 138, norm = 726.91, MSE = 726.91\n",
      "k = 139, norm = 76.67, MSE = 76.67\n",
      "k = 140, norm = 185.20, MSE = 185.20\n",
      "k = 141, norm = 72.51, MSE = 72.51\n",
      "k = 142, norm = 736.73, MSE = 736.73\n",
      "k = 143, norm = 76.48, MSE = 76.48\n",
      "k = 144, norm = 188.48, MSE = 188.48\n",
      "k = 145, norm = 72.28, MSE = 72.28\n",
      "k = 146, norm = 747.55, MSE = 747.55\n",
      "k = 147, norm = 76.44, MSE = 76.44\n",
      "k = 148, norm = 190.00, MSE = 190.00\n",
      "k = 149, norm = 72.05, MSE = 72.05\n",
      "k = 150, norm = 761.89, MSE = 761.89\n",
      "k = 151, norm = 76.35, MSE = 76.35\n",
      "k = 152, norm = 192.42, MSE = 192.42\n",
      "k = 153, norm = 71.71, MSE = 71.71\n",
      "k = 154, norm = 773.08, MSE = 773.08\n",
      "k = 155, norm = 76.24, MSE = 76.24\n",
      "k = 156, norm = 195.85, MSE = 195.85\n",
      "k = 157, norm = 71.48, MSE = 71.48\n",
      "k = 158, norm = 783.23, MSE = 783.23\n",
      "k = 159, norm = 76.07, MSE = 76.07\n",
      "k = 160, norm = 197.63, MSE = 197.63\n",
      "k = 161, norm = 71.25, MSE = 71.25\n",
      "k = 162, norm = 799.55, MSE = 799.55\n",
      "k = 163, norm = 76.02, MSE = 76.02\n",
      "k = 164, norm = 201.00, MSE = 201.00\n",
      "k = 165, norm = 71.07, MSE = 71.07\n",
      "k = 166, norm = 815.67, MSE = 815.67\n",
      "k = 167, norm = 76.09, MSE = 76.09\n",
      "k = 168, norm = 204.47, MSE = 204.47\n",
      "k = 169, norm = 70.76, MSE = 70.76\n",
      "k = 170, norm = 824.79, MSE = 824.79\n",
      "k = 171, norm = 75.96, MSE = 75.96\n",
      "k = 172, norm = 205.99, MSE = 205.99\n",
      "k = 173, norm = 70.60, MSE = 70.60\n",
      "k = 174, norm = 840.39, MSE = 840.39\n",
      "k = 175, norm = 75.90, MSE = 75.90\n",
      "k = 176, norm = 209.81, MSE = 209.81\n",
      "k = 177, norm = 70.29, MSE = 70.29\n",
      "k = 178, norm = 847.49, MSE = 847.49\n",
      "k = 179, norm = 75.80, MSE = 75.80\n",
      "k = 180, norm = 211.50, MSE = 211.50\n",
      "k = 181, norm = 70.02, MSE = 70.02\n",
      "k = 182, norm = 864.36, MSE = 864.36\n",
      "k = 183, norm = 75.77, MSE = 75.77\n",
      "k = 184, norm = 214.28, MSE = 214.28\n",
      "k = 185, norm = 69.89, MSE = 69.89\n",
      "k = 186, norm = 887.41, MSE = 887.41\n",
      "k = 187, norm = 75.90, MSE = 75.90\n",
      "k = 188, norm = 220.82, MSE = 220.82\n",
      "k = 189, norm = 69.52, MSE = 69.52\n",
      "k = 190, norm = 884.39, MSE = 884.39\n",
      "k = 191, norm = 75.59, MSE = 75.59\n",
      "k = 192, norm = 219.49, MSE = 219.49\n",
      "k = 193, norm = 69.31, MSE = 69.31\n",
      "k = 194, norm = 903.21, MSE = 903.21\n",
      "k = 195, norm = 75.67, MSE = 75.67\n",
      "k = 196, norm = 223.17, MSE = 223.17\n",
      "k = 197, norm = 69.15, MSE = 69.15\n",
      "k = 198, norm = 924.08, MSE = 924.08\n",
      "k = 199, norm = 75.69, MSE = 75.69\n",
      "k = 200, norm = 227.81, MSE = 227.81\n",
      "k = 201, norm = 68.97, MSE = 68.97\n",
      "k = 202, norm = 467.99, MSE = 467.99\n",
      "k = 203, norm = 70.22, MSE = 70.22\n",
      "k = 204, norm = 245.75, MSE = 245.75\n",
      "k = 205, norm = 68.75, MSE = 68.75\n",
      "k = 206, norm = 502.02, MSE = 502.02\n",
      "k = 207, norm = 70.44, MSE = 70.44\n",
      "k = 208, norm = 263.31, MSE = 263.31\n",
      "k = 209, norm = 68.78, MSE = 68.78\n",
      "k = 210, norm = 541.91, MSE = 541.91\n",
      "k = 211, norm = 70.63, MSE = 70.63\n",
      "k = 212, norm = 280.68, MSE = 280.68\n",
      "k = 213, norm = 68.74, MSE = 68.74\n",
      "k = 214, norm = 590.06, MSE = 590.06\n",
      "k = 215, norm = 70.93, MSE = 70.93\n",
      "k = 216, norm = 304.57, MSE = 304.57\n",
      "k = 217, norm = 68.68, MSE = 68.68\n",
      "k = 218, norm = 640.61, MSE = 640.61\n",
      "k = 219, norm = 71.44, MSE = 71.44\n",
      "k = 220, norm = 164.85, MSE = 164.85\n",
      "k = 221, norm = 68.00, MSE = 68.00\n",
      "k = 222, norm = 1294.55, MSE = 1294.55\n",
      "k = 223, norm = 81.19, MSE = 81.19\n",
      "k = 224, norm = 146.53, MSE = 146.53\n",
      "k = 225, norm = 67.48, MSE = 67.48\n"
     ]
    },
    {
     "name": "stdout",
     "output_type": "stream",
     "text": [
      "k = 226, norm = 1146.63, MSE = 1146.63\n",
      "k = 227, norm = 77.94, MSE = 77.94\n",
      "k = 228, norm = 133.02, MSE = 133.02\n",
      "k = 229, norm = 126.04, MSE = 126.04\n",
      "k = 230, norm = 119.64, MSE = 119.64\n",
      "k = 231, norm = 113.89, MSE = 113.89\n",
      "k = 232, norm = 108.80, MSE = 108.80\n",
      "k = 233, norm = 104.03, MSE = 104.03\n",
      "k = 234, norm = 99.88, MSE = 99.88\n",
      "k = 235, norm = 96.04, MSE = 96.04\n",
      "k = 236, norm = 92.60, MSE = 92.60\n",
      "k = 237, norm = 89.58, MSE = 89.58\n",
      "k = 238, norm = 86.70, MSE = 86.70\n",
      "k = 239, norm = 84.20, MSE = 84.20\n",
      "k = 240, norm = 161.45, MSE = 161.45\n",
      "k = 241, norm = 66.95, MSE = 66.95\n",
      "k = 242, norm = 1271.92, MSE = 1271.92\n",
      "k = 243, norm = 79.87, MSE = 79.87\n",
      "k = 244, norm = 143.61, MSE = 143.61\n",
      "k = 245, norm = 66.48, MSE = 66.48\n",
      "k = 246, norm = 1097.10, MSE = 1097.10\n",
      "k = 247, norm = 76.24, MSE = 76.24\n",
      "k = 248, norm = 128.45, MSE = 128.45\n",
      "k = 249, norm = 121.86, MSE = 121.86\n",
      "k = 250, norm = 115.76, MSE = 115.76\n",
      "k = 251, norm = 110.18, MSE = 110.18\n",
      "k = 252, norm = 105.27, MSE = 105.27\n",
      "k = 253, norm = 100.80, MSE = 100.80\n",
      "k = 254, norm = 96.87, MSE = 96.87\n",
      "k = 255, norm = 93.24, MSE = 93.24\n",
      "k = 256, norm = 89.97, MSE = 89.97\n",
      "k = 257, norm = 86.99, MSE = 86.99\n",
      "k = 258, norm = 84.40, MSE = 84.40\n",
      "k = 259, norm = 82.06, MSE = 82.06\n",
      "k = 260, norm = 154.77, MSE = 154.77\n",
      "k = 261, norm = 65.90, MSE = 65.90\n",
      "k = 262, norm = 1218.24, MSE = 1218.24\n",
      "k = 263, norm = 78.11, MSE = 78.11\n",
      "k = 264, norm = 138.46, MSE = 138.46\n",
      "k = 265, norm = 130.92, MSE = 130.92\n",
      "k = 266, norm = 124.16, MSE = 124.16\n",
      "k = 267, norm = 117.94, MSE = 117.94\n",
      "k = 268, norm = 112.37, MSE = 112.37\n",
      "k = 269, norm = 107.15, MSE = 107.15\n",
      "k = 270, norm = 102.47, MSE = 102.47\n",
      "k = 271, norm = 98.27, MSE = 98.27\n",
      "k = 272, norm = 94.63, MSE = 94.63\n",
      "k = 273, norm = 91.23, MSE = 91.23\n",
      "k = 274, norm = 88.16, MSE = 88.16\n",
      "k = 275, norm = 85.37, MSE = 85.37\n",
      "k = 276, norm = 83.04, MSE = 83.04\n",
      "k = 277, norm = 160.46, MSE = 160.46\n",
      "k = 278, norm = 65.46, MSE = 65.46\n",
      "k = 279, norm = 633.81, MSE = 633.81\n",
      "k = 280, norm = 68.71, MSE = 68.71\n",
      "k = 281, norm = 162.13, MSE = 162.13\n",
      "k = 282, norm = 65.33, MSE = 65.33\n",
      "k = 283, norm = 631.28, MSE = 631.28\n",
      "k = 284, norm = 68.49, MSE = 68.49\n",
      "k = 285, norm = 161.51, MSE = 161.51\n",
      "k = 286, norm = 65.01, MSE = 65.01\n",
      "k = 287, norm = 643.02, MSE = 643.02\n",
      "k = 288, norm = 68.46, MSE = 68.46\n",
      "k = 289, norm = 164.38, MSE = 164.38\n",
      "k = 290, norm = 64.91, MSE = 64.91\n",
      "k = 291, norm = 654.64, MSE = 654.64\n",
      "k = 292, norm = 68.35, MSE = 68.35\n",
      "k = 293, norm = 166.77, MSE = 166.77\n",
      "k = 294, norm = 64.70, MSE = 64.70\n",
      "k = 295, norm = 666.34, MSE = 666.34\n",
      "k = 296, norm = 68.17, MSE = 68.17\n",
      "k = 297, norm = 168.44, MSE = 168.44\n",
      "k = 298, norm = 64.31, MSE = 64.31\n",
      "k = 299, norm = 669.85, MSE = 669.85\n",
      "k = 300, norm = 68.00, MSE = 68.00\n",
      "k = 301, norm = 169.38, MSE = 169.38\n",
      "k = 302, norm = 64.11, MSE = 64.11\n",
      "k = 303, norm = 676.69, MSE = 676.69\n",
      "k = 304, norm = 67.98, MSE = 67.98\n",
      "k = 305, norm = 171.45, MSE = 171.45\n",
      "k = 306, norm = 63.95, MSE = 63.95\n",
      "k = 307, norm = 693.95, MSE = 693.95\n",
      "k = 308, norm = 67.86, MSE = 67.86\n",
      "k = 309, norm = 174.23, MSE = 174.23\n",
      "k = 310, norm = 63.67, MSE = 63.67\n",
      "k = 311, norm = 714.68, MSE = 714.68\n",
      "k = 312, norm = 68.04, MSE = 68.04\n",
      "k = 313, norm = 179.98, MSE = 179.98\n",
      "k = 314, norm = 63.61, MSE = 63.61\n",
      "k = 315, norm = 721.11, MSE = 721.11\n",
      "k = 316, norm = 67.89, MSE = 67.89\n",
      "k = 317, norm = 180.83, MSE = 180.83\n",
      "k = 318, norm = 63.27, MSE = 63.27\n",
      "k = 319, norm = 728.93, MSE = 728.93\n",
      "k = 320, norm = 67.81, MSE = 67.81\n",
      "k = 321, norm = 182.67, MSE = 182.67\n",
      "k = 322, norm = 63.08, MSE = 63.08\n",
      "k = 323, norm = 737.82, MSE = 737.82\n",
      "k = 324, norm = 67.63, MSE = 67.63\n",
      "k = 325, norm = 183.84, MSE = 183.84\n",
      "k = 326, norm = 62.80, MSE = 62.80\n",
      "k = 327, norm = 731.11, MSE = 731.11\n",
      "k = 328, norm = 67.45, MSE = 67.45\n",
      "k = 329, norm = 182.92, MSE = 182.92\n",
      "k = 330, norm = 62.67, MSE = 62.67\n",
      "k = 331, norm = 738.32, MSE = 738.32\n",
      "k = 332, norm = 67.37, MSE = 67.37\n",
      "k = 333, norm = 185.43, MSE = 185.43\n",
      "k = 334, norm = 62.42, MSE = 62.42\n",
      "k = 335, norm = 745.04, MSE = 745.04\n",
      "k = 336, norm = 67.20, MSE = 67.20\n",
      "k = 337, norm = 186.07, MSE = 186.07\n",
      "k = 338, norm = 62.21, MSE = 62.21\n",
      "k = 339, norm = 758.97, MSE = 758.97\n",
      "k = 340, norm = 67.13, MSE = 67.13\n",
      "k = 341, norm = 188.23, MSE = 188.23\n",
      "k = 342, norm = 61.94, MSE = 61.94\n",
      "k = 343, norm = 774.93, MSE = 774.93\n",
      "k = 344, norm = 67.20, MSE = 67.20\n",
      "k = 345, norm = 192.62, MSE = 192.62\n",
      "k = 346, norm = 61.73, MSE = 61.73\n",
      "k = 347, norm = 800.18, MSE = 800.18\n",
      "k = 348, norm = 67.45, MSE = 67.45\n",
      "k = 349, norm = 199.00, MSE = 199.00\n",
      "k = 350, norm = 61.55, MSE = 61.55\n",
      "k = 351, norm = 817.48, MSE = 817.48\n",
      "k = 352, norm = 67.42, MSE = 67.42\n",
      "k = 353, norm = 202.47, MSE = 202.47\n",
      "k = 354, norm = 61.34, MSE = 61.34\n",
      "k = 355, norm = 820.05, MSE = 820.05\n",
      "k = 356, norm = 67.20, MSE = 67.20\n",
      "k = 357, norm = 202.07, MSE = 202.07\n",
      "k = 358, norm = 61.14, MSE = 61.14\n",
      "k = 359, norm = 422.60, MSE = 422.60\n",
      "k = 360, norm = 62.46, MSE = 62.46\n",
      "k = 361, norm = 219.90, MSE = 219.90\n",
      "k = 362, norm = 61.07, MSE = 61.07\n",
      "k = 363, norm = 454.45, MSE = 454.45\n",
      "k = 364, norm = 62.67, MSE = 62.67\n",
      "k = 365, norm = 237.77, MSE = 237.77\n",
      "k = 366, norm = 61.13, MSE = 61.13\n",
      "k = 367, norm = 496.85, MSE = 496.85\n",
      "k = 368, norm = 62.76, MSE = 62.76\n",
      "k = 369, norm = 255.47, MSE = 255.47\n",
      "k = 370, norm = 61.05, MSE = 61.05\n",
      "k = 371, norm = 542.33, MSE = 542.33\n",
      "k = 372, norm = 63.21, MSE = 63.21\n",
      "k = 373, norm = 279.59, MSE = 279.59\n",
      "k = 374, norm = 61.02, MSE = 61.02\n",
      "k = 375, norm = 291.93, MSE = 291.93\n",
      "k = 376, norm = 61.02, MSE = 61.02\n",
      "k = 377, norm = 305.55, MSE = 305.55\n",
      "k = 378, norm = 61.12, MSE = 61.12\n",
      "k = 379, norm = 319.52, MSE = 319.52\n",
      "k = 380, norm = 61.12, MSE = 61.12\n",
      "k = 381, norm = 337.08, MSE = 337.08\n",
      "k = 382, norm = 61.23, MSE = 61.23\n",
      "k = 383, norm = 350.60, MSE = 350.60\n",
      "k = 384, norm = 61.23, MSE = 61.23\n",
      "k = 385, norm = 364.78, MSE = 364.78\n",
      "k = 386, norm = 61.31, MSE = 61.31\n",
      "k = 387, norm = 381.90, MSE = 381.90\n",
      "k = 388, norm = 61.38, MSE = 61.38\n",
      "k = 389, norm = 399.82, MSE = 399.82\n",
      "k = 390, norm = 61.46, MSE = 61.46\n",
      "k = 391, norm = 208.85, MSE = 208.85\n",
      "k = 392, norm = 60.22, MSE = 60.22\n",
      "k = 393, norm = 429.37, MSE = 429.37\n",
      "k = 394, norm = 61.63, MSE = 61.63\n",
      "k = 395, norm = 222.87, MSE = 222.87\n",
      "k = 396, norm = 60.09, MSE = 60.09\n",
      "k = 397, norm = 456.92, MSE = 456.92\n",
      "k = 398, norm = 61.71, MSE = 61.71\n",
      "k = 399, norm = 236.31, MSE = 236.31\n",
      "k = 400, norm = 60.21, MSE = 60.21\n",
      "k = 401, norm = 492.22, MSE = 492.22\n",
      "k = 402, norm = 61.90, MSE = 61.90\n",
      "k = 403, norm = 254.92, MSE = 254.92\n",
      "k = 404, norm = 60.03, MSE = 60.03\n",
      "k = 405, norm = 526.74, MSE = 526.74\n",
      "k = 406, norm = 62.06, MSE = 62.06\n",
      "k = 407, norm = 272.09, MSE = 272.09\n",
      "k = 408, norm = 60.07, MSE = 60.07\n",
      "k = 409, norm = 570.79, MSE = 570.79\n",
      "k = 410, norm = 62.58, MSE = 62.58\n",
      "k = 411, norm = 146.71, MSE = 146.71\n",
      "k = 412, norm = 59.47, MSE = 59.47\n",
      "k = 413, norm = 589.95, MSE = 589.95\n",
      "k = 414, norm = 62.56, MSE = 62.56\n",
      "k = 415, norm = 150.61, MSE = 150.61\n",
      "k = 416, norm = 59.18, MSE = 59.18\n",
      "k = 417, norm = 602.51, MSE = 602.51\n",
      "k = 418, norm = 62.50, MSE = 62.50\n",
      "k = 419, norm = 153.19, MSE = 153.19\n",
      "k = 420, norm = 58.94, MSE = 58.94\n",
      "k = 421, norm = 600.42, MSE = 600.42\n",
      "k = 422, norm = 62.26, MSE = 62.26\n",
      "k = 423, norm = 153.08, MSE = 153.08\n",
      "k = 424, norm = 58.84, MSE = 58.84\n",
      "k = 425, norm = 602.11, MSE = 602.11\n",
      "k = 426, norm = 62.02, MSE = 62.02\n",
      "k = 427, norm = 153.39, MSE = 153.39\n",
      "k = 428, norm = 58.69, MSE = 58.69\n",
      "k = 429, norm = 622.72, MSE = 622.72\n",
      "k = 430, norm = 62.10, MSE = 62.10\n",
      "k = 431, norm = 158.22, MSE = 158.22\n",
      "k = 432, norm = 58.37, MSE = 58.37\n",
      "k = 433, norm = 627.56, MSE = 627.56\n",
      "k = 434, norm = 62.03, MSE = 62.03\n",
      "k = 435, norm = 158.69, MSE = 158.69\n",
      "k = 436, norm = 58.24, MSE = 58.24\n",
      "k = 437, norm = 634.95, MSE = 634.95\n",
      "k = 438, norm = 61.85, MSE = 61.85\n",
      "k = 439, norm = 158.97, MSE = 158.97\n",
      "k = 440, norm = 57.92, MSE = 57.92\n",
      "k = 441, norm = 629.52, MSE = 629.52\n",
      "k = 442, norm = 61.66, MSE = 61.66\n",
      "k = 443, norm = 158.26, MSE = 158.26\n",
      "k = 444, norm = 57.70, MSE = 57.70\n",
      "k = 445, norm = 633.53, MSE = 633.53\n",
      "k = 446, norm = 61.54, MSE = 61.54\n",
      "k = 447, norm = 160.03, MSE = 160.03\n",
      "k = 448, norm = 57.49, MSE = 57.49\n",
      "k = 449, norm = 660.27, MSE = 660.27\n",
      "k = 450, norm = 61.67, MSE = 61.67\n",
      "k = 451, norm = 165.65, MSE = 165.65\n",
      "k = 452, norm = 57.40, MSE = 57.40\n",
      "k = 453, norm = 673.86, MSE = 673.86\n"
     ]
    },
    {
     "name": "stdout",
     "output_type": "stream",
     "text": [
      "k = 454, norm = 61.57, MSE = 61.57\n",
      "k = 455, norm = 168.27, MSE = 168.27\n",
      "k = 456, norm = 57.22, MSE = 57.22\n",
      "k = 457, norm = 690.98, MSE = 690.98\n",
      "k = 458, norm = 61.64, MSE = 61.64\n",
      "k = 459, norm = 171.71, MSE = 171.71\n",
      "k = 460, norm = 57.09, MSE = 57.09\n",
      "k = 461, norm = 692.88, MSE = 692.88\n",
      "k = 462, norm = 61.47, MSE = 61.47\n",
      "k = 463, norm = 172.46, MSE = 172.46\n",
      "k = 464, norm = 56.77, MSE = 56.77\n",
      "k = 465, norm = 700.74, MSE = 700.74\n",
      "k = 466, norm = 61.48, MSE = 61.48\n",
      "k = 467, norm = 173.99, MSE = 173.99\n",
      "k = 468, norm = 56.52, MSE = 56.52\n",
      "k = 469, norm = 707.57, MSE = 707.57\n",
      "k = 470, norm = 61.34, MSE = 61.34\n",
      "k = 471, norm = 175.09, MSE = 175.09\n",
      "k = 472, norm = 56.49, MSE = 56.49\n",
      "k = 473, norm = 727.93, MSE = 727.93\n",
      "k = 474, norm = 61.45, MSE = 61.45\n",
      "k = 475, norm = 180.58, MSE = 180.58\n",
      "k = 476, norm = 56.26, MSE = 56.26\n",
      "k = 477, norm = 732.94, MSE = 732.94\n",
      "k = 478, norm = 61.38, MSE = 61.38\n",
      "k = 479, norm = 182.22, MSE = 182.22\n",
      "k = 480, norm = 56.04, MSE = 56.04\n",
      "k = 481, norm = 749.32, MSE = 749.32\n",
      "k = 482, norm = 61.38, MSE = 61.38\n",
      "k = 483, norm = 184.24, MSE = 184.24\n",
      "k = 484, norm = 55.86, MSE = 55.86\n",
      "k = 485, norm = 382.24, MSE = 382.24\n",
      "k = 486, norm = 56.96, MSE = 56.96\n",
      "k = 487, norm = 199.42, MSE = 199.42\n",
      "k = 488, norm = 55.75, MSE = 55.75\n",
      "k = 489, norm = 403.64, MSE = 403.64\n",
      "k = 490, norm = 57.07, MSE = 57.07\n",
      "k = 491, norm = 210.39, MSE = 210.39\n",
      "k = 492, norm = 55.72, MSE = 55.72\n",
      "k = 493, norm = 438.98, MSE = 438.98\n",
      "k = 494, norm = 57.25, MSE = 57.25\n",
      "k = 495, norm = 227.22, MSE = 227.22\n",
      "k = 496, norm = 55.71, MSE = 55.71\n",
      "k = 497, norm = 470.34, MSE = 470.34\n",
      "k = 498, norm = 57.48, MSE = 57.48\n",
      "k = 499, norm = 244.29, MSE = 244.29\n",
      "k = 500, norm = 55.68, MSE = 55.68\n"
     ]
    }
   ],
   "source": [
    "# Calculation of polynomial regression with degree 2\n",
    "degree = 3\n",
    "# Using alpha = 0.02 as a learning rate\n",
    "w_optim_002_3    = gradientDescent(0.1, degree, training_dataset, alpha  = 0.02) \n",
    "# Armijo's learning rate\n",
    "w_optim_armijo_3 = gradientDescent(0.1, degree, training_dataset, armij = True)"
   ]
  },
  {
   "cell_type": "code",
   "execution_count": 297,
   "metadata": {},
   "outputs": [
    {
     "name": "stdout",
     "output_type": "stream",
     "text": [
      "MSE = 23045592350168776.00\n",
      "MSE = 9608.76\n"
     ]
    }
   ],
   "source": [
    "# Calculation of the general error for our 2 models\n",
    "# the model with alpha = 0.02\n",
    "MSE_alpha002_3 = MSE(w_optim_002_3   , testing_dataset)\n",
    "print(\"MSE = {0:.2f}\".format(MSE_alpha002))\n",
    "# the model with armijo learning rate\n",
    "MSE_armijo_3   = MSE(w_optim_armijo_3, testing_dataset)\n",
    "print(\"MSE = {0:.2f}\".format(MSE_armijo))"
   ]
  },
  {
   "cell_type": "code",
   "execution_count": 292,
   "metadata": {},
   "outputs": [
    {
     "name": "stdout",
     "output_type": "stream",
     "text": [
      "model 1 Bias = 92549991830.23\n",
      "model 2 Bias = 1461.17\n",
      "model 1 Variance = 37104159838840578048.00\n",
      "model 2 Variance = 6010.81\n"
     ]
    }
   ],
   "source": [
    "print(\"model 1 Bias = {0:.2f}\".format(bias(w_optim_002_3,dataframe)))\n",
    "print(\"model 2 Bias = {0:.2f}\".format(bias(w_optim_armijo_3,dataframe)))\n",
    "\n",
    "print(\"model 1 Variance = {0:.2f}\".format(variance(w_optim_002_3,dataframe)))\n",
    "print(\"model 2 Variance = {0:.2f}\".format(variance(w_optim_armijo_3,dataframe)))"
   ]
  },
  {
   "cell_type": "code",
   "execution_count": 304,
   "metadata": {},
   "outputs": [
    {
     "data": {
      "image/png": "[encoded data removed]",
      "text/plain": [
       "<Figure size 432x288 with 1 Axes>"
      ]
     },
     "metadata": {
      "needs_background": "light"
     },
     "output_type": "display_data"
    }
   ],
   "source": [
    "plot_h(w_optim_002_3,training_dataset)"
   ]
  },
  {
   "cell_type": "code",
   "execution_count": 306,
   "metadata": {},
   "outputs": [
    {
     "data": {
      "image/png": "[encoded data removed]",
      "text/plain": [
       "<Figure size 432x288 with 1 Axes>"
      ]
     },
     "metadata": {
      "needs_background": "light"
     },
     "output_type": "display_data"
    }
   ],
   "source": [
    "plot_h(w_optim_armijo_3,training_dataset)"
   ]
  },
  {
   "cell_type": "code",
   "execution_count": null,
   "metadata": {},
   "outputs": [],
   "source": [
    "# Calculation of polynomial regression with degree 2\n",
    "degree = 4\n",
    "# Using alpha = 0.02 as a learning rate\n",
    "w_optim_002_4    = gradientDescent(0.1, degree, training_dataset, alpha  = 0.02) \n",
    "# Armijo's learning rate\n",
    "w_optim_armijo_4 = gradientDescent(0.1, degree, training_dataset, armij = True)"
   ]
  },
  {
   "cell_type": "code",
   "execution_count": 300,
   "metadata": {},
   "outputs": [
    {
     "name": "stdout",
     "output_type": "stream",
     "text": [
      "MSE = 18160769368478075973793742848.00\n",
      "MSE = 11673.45\n"
     ]
    }
   ],
   "source": [
    "# Calculation of the general error for our 4 models\n",
    "# the model with alpha = 0.02\n",
    "MSE_alpha002_4 = MSE(w_optim_002_4   , testing_dataset)\n",
    "print(\"MSE = {0:.2f}\".format(MSE_alpha002_4))\n",
    "# the model with armijo learning rate\n",
    "MSE_armijo_4   = MSE(w_optim_armijo_4, testing_dataset)\n",
    "print(\"MSE = {0:.2f}\".format(MSE_armijo_4))"
   ]
  },
  {
   "cell_type": "code",
   "execution_count": 301,
   "metadata": {},
   "outputs": [
    {
     "name": "stdout",
     "output_type": "stream",
     "text": [
      "model 1 Bias = 1704433840974372.75\n",
      "model 2 Bias = 1560.69\n",
      "model 1 Variance = 8905405019283171162231668736.00\n",
      "model 2 Variance = 7571.77\n"
     ]
    }
   ],
   "source": [
    "print(\"model 1 Bias = {0:.2f}\".format(bias(w_optim_002_4,dataframe)))\n",
    "print(\"model 2 Bias = {0:.2f}\".format(bias(w_optim_armijo_4,dataframe)))\n",
    "\n",
    "print(\"model 1 Variance = {0:.2f}\".format(variance(w_optim_002_4,dataframe)))\n",
    "print(\"model 2 Variance = {0:.2f}\".format(variance(w_optim_armijo_4,dataframe)))"
   ]
  },
  {
   "cell_type": "code",
   "execution_count": 302,
   "metadata": {},
   "outputs": [
    {
     "data": {
      "image/png": "[encoded data removed]",
      "text/plain": [
       "<Figure size 432x288 with 1 Axes>"
      ]
     },
     "metadata": {
      "needs_background": "light"
     },
     "output_type": "display_data"
    }
   ],
   "source": [
    "plot_h(w_optim_002_4,training_dataset)"
   ]
  },
  {
   "cell_type": "code",
   "execution_count": 303,
   "metadata": {
    "scrolled": true
   },
   "outputs": [
    {
     "data": {
      "image/png": "[encoded data removed]",
      "text/plain": [
       "<Figure size 432x288 with 1 Axes>"
      ]
     },
     "metadata": {
      "needs_background": "light"
     },
     "output_type": "display_data"
    }
   ],
   "source": [
    "plot_h(w_optim_armijo_4,training_dataset)"
   ]
  },
  {
   "cell_type": "markdown",
   "metadata": {},
   "source": [
    "# Degree 2"
   ]
  },
  {
   "cell_type": "code",
   "execution_count": 313,
   "metadata": {},
   "outputs": [
    {
     "name": "stdout",
     "output_type": "stream",
     "text": [
      "MSE      = 9608.76\n",
      "Bias     = 1456.32\n",
      "Variance = 6177.49\n"
     ]
    }
   ],
   "source": [
    "MSE_armijo   = MSE(w_optim_armijo, testing_dataset)\n",
    "print(\"MSE      = {0:.2f}\".format(MSE_armijo))\n",
    "print(\"Bias     = {0:.2f}\".format(bias(w_optim_armijo,dataframe)))\n",
    "print(\"Variance = {0:.2f}\".format(variance(w_optim_armijo,dataframe)))"
   ]
  },
  {
   "cell_type": "markdown",
   "metadata": {},
   "source": [
    "# Degree 3"
   ]
  },
  {
   "cell_type": "code",
   "execution_count": 314,
   "metadata": {},
   "outputs": [
    {
     "name": "stdout",
     "output_type": "stream",
     "text": [
      "MSE      = 9644.99\n",
      "Bias     = 1461.17\n",
      "Variance = 6010.81\n"
     ]
    }
   ],
   "source": [
    "MSE_armijo_3   = MSE(w_optim_armijo_3, testing_dataset)\n",
    "print(\"MSE      = {0:.2f}\".format(MSE_armijo_3))\n",
    "print(\"Bias     = {0:.2f}\".format(bias(w_optim_armijo_3,dataframe)))\n",
    "print(\"Variance = {0:.2f}\".format(variance(w_optim_armijo_3,dataframe)))"
   ]
  },
  {
   "cell_type": "markdown",
   "metadata": {},
   "source": [
    "# Degree 4"
   ]
  },
  {
   "cell_type": "code",
   "execution_count": 315,
   "metadata": {},
   "outputs": [
    {
     "name": "stdout",
     "output_type": "stream",
     "text": [
      "MSE      = 11673.45\n",
      "Bias     = 1560.69\n",
      "Variance = 7571.77\n"
     ]
    }
   ],
   "source": [
    "MSE_armijo_4   = MSE(w_optim_armijo_4, testing_dataset)\n",
    "print(\"MSE      = {0:.2f}\".format(MSE_armijo_4))\n",
    "print(\"Bias     = {0:.2f}\".format(bias(w_optim_armijo_4,dataframe)))\n",
    "print(\"Variance = {0:.2f}\".format(variance(w_optim_armijo_4,dataframe)))"
   ]
  },
  {
   "cell_type": "code",
   "execution_count": null,
   "metadata": {},
   "outputs": [],
   "source": []
  },
  {
   "cell_type": "code",
   "execution_count": null,
   "metadata": {},
   "outputs": [],
   "source": []
  }
 ],
 "metadata": {
  "kernelspec": {
   "display_name": "Python 3",
   "language": "python",
   "name": "python3"
  },
  "language_info": {
   "codemirror_mode": {
    "name": "ipython",
    "version": 3
   },
   "file_extension": ".py",
   "mimetype": "text/x-python",
   "name": "python",
   "nbconvert_exporter": "python",
   "pygments_lexer": "ipython3",
   "version": "3.8.5"
  }
 },
 "nbformat": 4,
 "nbformat_minor": 4
}
