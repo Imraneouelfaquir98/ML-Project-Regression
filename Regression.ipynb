{
 "cells": [
  {
   "cell_type": "markdown",
   "metadata": {},
   "source": [
    "# Machine learning Project of Regression"
   ]
  },
  {
   "cell_type": "markdown",
   "metadata": {},
   "source": [
    "# Part 1:"
   ]
  },
  {
   "cell_type": "code",
   "execution_count": 215,
   "metadata": {},
   "outputs": [],
   "source": [
    "import pandas as pd\n",
    "import numpy as np\n",
    "import matplotlib.pyplot as plt\n",
    "import csv"
   ]
  },
  {
   "cell_type": "markdown",
   "metadata": {},
   "source": [
    "# Loading and splitting Dataset "
   ]
  },
  {
   "cell_type": "code",
   "execution_count": 216,
   "metadata": {},
   "outputs": [],
   "source": [
    "# Loading Dataset\n",
    "url = \"Part1_data12.csv\"\n",
    "dataset = pd.read_csv(url)"
   ]
  },
  {
   "cell_type": "code",
   "execution_count": 217,
   "metadata": {},
   "outputs": [
    {
     "name": "stdout",
     "output_type": "stream",
     "text": [
      "Dimension = 220*2\n"
     ]
    }
   ],
   "source": [
    "#Shape : Dimensions of the dataset\n",
    "print(\"Dimension = {0:d}*{1:d}\".format(dataset.shape[0],dataset.shape[1]))"
   ]
  },
  {
   "cell_type": "markdown",
   "metadata": {},
   "source": [
    "# Randomly mix the dataset by the function simple"
   ]
  },
  {
   "cell_type": "code",
   "execution_count": 218,
   "metadata": {},
   "outputs": [],
   "source": [
    "dataframe = pd.DataFrame(dataset)\n",
    "dataframe_mixed = dataframe.sample(frac=1)\n",
    "# dataframe_mixed"
   ]
  },
  {
   "cell_type": "markdown",
   "metadata": {},
   "source": [
    "# We take 70% as a training data and 30% as a testing data"
   ]
  },
  {
   "cell_type": "code",
   "execution_count": 219,
   "metadata": {},
   "outputs": [],
   "source": [
    "training_dataset_df = dataframe_mixed[:int(len(dataframe)*0.7)]\n",
    "# training_dataset\n",
    "\n",
    "testing_dataset_df  = dataframe_mixed[int(len(dataframe)*0.7):len(dataframe)]\n",
    "# testing_dataset"
   ]
  },
  {
   "cell_type": "code",
   "execution_count": 220,
   "metadata": {},
   "outputs": [],
   "source": [
    "# Saving training and testing dataset to a cqsv files\n",
    "training_dataset_df.to_csv(r'training_dataset.csv', index=False, header=True)\n",
    "testing_dataset_df.to_csv(r'testing_dataset.csv'  , index=False, header=True)"
   ]
  },
  {
   "cell_type": "markdown",
   "metadata": {},
   "source": [
    "# Question 1 Read and visualize the given data."
   ]
  },
  {
   "cell_type": "code",
   "execution_count": 221,
   "metadata": {},
   "outputs": [],
   "source": [
    "training_dataset_url = \"training_dataset.csv\"\n",
    "testing_dataset_url  = \"testing_dataset.csv\"\n",
    "\n",
    "training_dataset = pd.read_csv(training_dataset_url)\n",
    "testing_dataset  = pd.read_csv(testing_dataset_url)"
   ]
  },
  {
   "cell_type": "markdown",
   "metadata": {},
   "source": [
    "# Give the mean/median/min/max for each feature."
   ]
  },
  {
   "cell_type": "code",
   "execution_count": 222,
   "metadata": {},
   "outputs": [
    {
     "name": "stdout",
     "output_type": "stream",
     "text": [
      "mean(x) = 12.95\n",
      "median(x) = 12.95\n",
      "max(x) = 23.90\n",
      "min(x) = 2.00\n"
     ]
    }
   ],
   "source": [
    "# Calculation of the mean of x\n",
    "print(\"mean(x) = {:.2f}\".format(float(pd.DataFrame(dataset['x']).mean())))\n",
    "\n",
    "# Calculation of the median of x\n",
    "print(\"median(x) = {:.2f}\".format(float(pd.DataFrame(dataset['x']).median())))\n",
    "\n",
    "# Calculation of the max of x\n",
    "print(\"max(x) = {:.2f}\".format(float(pd.DataFrame(dataset['x']).max())))\n",
    "\n",
    "# Calculation of the min of x\n",
    "print(\"min(x) = {:.2f}\".format(float(pd.DataFrame(dataset['x']).min())))"
   ]
  },
  {
   "cell_type": "markdown",
   "metadata": {},
   "source": [
    "# Question2: Use scatter plot to represent your training dataset."
   ]
  },
  {
   "cell_type": "code",
   "execution_count": 223,
   "metadata": {},
   "outputs": [
    {
     "data": {
      "text/plain": [
       "<matplotlib.collections.PathCollection at 0x7f7e48c8af10>"
      ]
     },
     "execution_count": 223,
     "metadata": {},
     "output_type": "execute_result"
    },
    {
     "data": {
      "image/png": "[encoded data removed]",
      "text/plain": [
       "<Figure size 432x288 with 1 Axes>"
      ]
     },
     "metadata": {
      "needs_background": "light"
     },
     "output_type": "display_data"
    }
   ],
   "source": [
    "# Plotting the training dataset\n",
    "plt.scatter(training_dataset['x'], training_dataset['y'], c = 'red', marker = '*')"
   ]
  },
  {
   "cell_type": "code",
   "execution_count": 1,
   "metadata": {},
   "outputs": [],
   "source": [
    "# Plotting the training dataset with hypotesis function\n",
    "def plot_h(w,df):\n",
    "    plt.scatter(df['x'], df['y'], c = 'red', marker = '*')\n",
    "    plt.plot([df['x'].min(),df['x'].max()],[h(df['x'].min(),w),h(df['x'].max(),w)], linewidth=4)"
   ]
  },
  {
   "cell_type": "markdown",
   "metadata": {},
   "source": [
    "# Question5:"
   ]
  },
  {
   "cell_type": "markdown",
   "metadata": {},
   "source": [
    "# The hypothesis function. "
   ]
  },
  {
   "cell_type": "code",
   "execution_count": 171,
   "metadata": {},
   "outputs": [],
   "source": [
    "# The hypothesis function. \n",
    "def h(x,w):\n",
    "    return w[1]*x + w[0]"
   ]
  },
  {
   "cell_type": "markdown",
   "metadata": {},
   "source": [
    "# The empirical error"
   ]
  },
  {
   "cell_type": "markdown",
   "metadata": {},
   "source": [
    "# Mean Squared Error(MSE)"
   ]
  },
  {
   "cell_type": "code",
   "execution_count": 172,
   "metadata": {},
   "outputs": [],
   "source": [
    "# The empirical error MSE\n",
    "def MSE(w,d_set):\n",
    "    MSE = 0\n",
    "    for i in range(len(d_set)):\n",
    "        MSE = MSE + pow((d_set['y'][i] - h(d_set['x'][i],w)),2)\n",
    "    return MSE/len(d_set)"
   ]
  },
  {
   "cell_type": "markdown",
   "metadata": {},
   "source": [
    "# Root-Mean-Squared-Error(RMSE)."
   ]
  },
  {
   "cell_type": "code",
   "execution_count": 173,
   "metadata": {},
   "outputs": [],
   "source": [
    "# The empirical error RMSE\n",
    "def RMSE(w,d_set):\n",
    "    return np.sqrt(MSE(w,d_set))"
   ]
  },
  {
   "cell_type": "markdown",
   "metadata": {},
   "source": [
    "# Mean-Absolute-Error(MAE)."
   ]
  },
  {
   "cell_type": "code",
   "execution_count": 174,
   "metadata": {},
   "outputs": [],
   "source": [
    "# The empirical error MAE\n",
    "def MAE(w,d_set):\n",
    "    MAE = float(0)\n",
    "    for i in range(len(d_set)):\n",
    "        MAE = MAE + np.abs((d_set['y'][i] - h(d_set['x'][i],w)))\n",
    "    return MAE/len(d_set)"
   ]
  },
  {
   "cell_type": "markdown",
   "metadata": {},
   "source": [
    "# Gradient"
   ]
  },
  {
   "cell_type": "code",
   "execution_count": 175,
   "metadata": {},
   "outputs": [],
   "source": [
    "# Calculation of the gradient\n",
    "def gradient(w, d_set, empiricalError = MSE):\n",
    "    grad = []\n",
    "    wi = [float(0) for i in range(len(w))]\n",
    "    for i in range(len(w)):\n",
    "        for k in range(len(w)):\n",
    "            wi[k] = w[k]\n",
    "        wi[i] = wi[i] + 1e-10\n",
    "        grad.append((empiricalError(wi,d_set) - empiricalError(w,d_set))/1e-10)\n",
    "    return grad"
   ]
  },
  {
   "cell_type": "markdown",
   "metadata": {},
   "source": [
    "# Armijo's learning rate"
   ]
  },
  {
   "cell_type": "code",
   "execution_count": 176,
   "metadata": {},
   "outputs": [],
   "source": [
    "# Calculation of the step Armijo\n",
    "def armijo(wk, dk, d_set, empiricalError = MSE):\n",
    "    alpha = 1\n",
    "    X = 0.25*alpha*np.matmul(gradient(wk, d_set,empiricalError), dk)\n",
    "    while empiricalError(np.add(wk, np.multiply(alpha,dk)), d_set) - empiricalError(wk, d_set) > X:\n",
    "        alpha = alpha/2\n",
    "        X = 0.25*alpha*np.matmul(gradient(wk, d_set,empiricalError), dk)\n",
    "    return alpha"
   ]
  },
  {
   "cell_type": "markdown",
   "metadata": {},
   "source": [
    "# Gradient Descent Method"
   ]
  },
  {
   "cell_type": "code",
   "execution_count": 205,
   "metadata": {},
   "outputs": [],
   "source": [
    "# Gradient descent method\n",
    "def gradientDescent(delta, wk, d_set, armij = False, alpha = 0, empiricalError = MSE):\n",
    "    gk = np.multiply(-1,gradient(wk, d_set, empiricalError))\n",
    "    k = 0\n",
    "    while k<500:\n",
    "        if armij == True:\n",
    "            alpha = armijo(wk,gk, d_set)\n",
    "        wk = np.add(wk, np.multiply(alpha,gk))\n",
    "        gk = np.multiply(-1,gradient(wk, d_set, empiricalError))\n",
    "        k = k+1\n",
    "    return wk\n",
    "# print(\"{0:d}- Ls = {1:.2f}\".format(int(k),float(empiricalError(wk))))"
   ]
  },
  {
   "cell_type": "code",
   "execution_count": 3,
   "metadata": {},
   "outputs": [],
   "source": [
    "# Calculation of the regression model for our four model\n",
    "\n",
    "w_optim_001 = gradientDescent(0.1, [1,1], training_dataset, alpha  = 0.01) # MSE\n",
    "print(\"alpha=0.01: w* = [{0:.2f}, {1:.2f}], Emp_Error = {2:.2f} \".format(w_optim_001[0],w_optim_001[1],MSE(w_optim_001,training_dataset)))\n",
    "\n",
    "w_optim_002 = gradientDescent(0.1, [1,1], training_dataset, alpha  = 0.02) # RMSE\n",
    "print(\"alpha=0.02: w* = [{0:.2f}, {1:.2f}], Emp_Error = {2:.2f} \".format(w_optim_002[0],w_optim_002[1],MSE(w_optim_002,training_dataset)))\n",
    "\n",
    "w_optim_003 = gradientDescent(0.1, [1,1], training_dataset, alpha  = 0.03) # RMSE\n",
    "print(\"alpha=0.03: w* = [{0:.2f}, {1:.2f}], Emp_Error = {2:.2f} \".format(w_optim_003[0],w_optim_003[1],MSE(w_optim_003,training_dataset)))\n",
    "\n",
    "w_optim_armijo  = gradientDescent(0.1, [1,1], training_dataset, armij = True) # MAE\n",
    "print(\"Armijo    : w* = [{0:.2f}, {1:.2f}], Emp_Error = {2:.2f} \".format(w_optim_armijo[0],w_optim_armijo[1],MSE(w_optim_armijo,training_dataset)))\n"
   ]
  },
  {
   "cell_type": "code",
   "execution_count": 201,
   "metadata": {},
   "outputs": [
    {
     "data": {
      "image/png": "[encoded data removed]",
      "text/plain": [
       "<Figure size 432x288 with 1 Axes>"
      ]
     },
     "metadata": {
      "needs_background": "light"
     },
     "output_type": "display_data"
    }
   ],
   "source": [
    "# alpha  = 0.01\n",
    "plot_h(w_optim_001,training_dataset)"
   ]
  },
  {
   "cell_type": "code",
   "execution_count": 202,
   "metadata": {},
   "outputs": [
    {
     "data": {
      "image/png": "[encoded data removed]",
      "text/plain": [
       "<Figure size 432x288 with 1 Axes>"
      ]
     },
     "metadata": {
      "needs_background": "light"
     },
     "output_type": "display_data"
    }
   ],
   "source": [
    "# alpha  = 0.02\n",
    "plot_h(w_optim_002,training_dataset)"
   ]
  },
  {
   "cell_type": "code",
   "execution_count": 203,
   "metadata": {},
   "outputs": [
    {
     "data": {
      "image/png": "[encoded data removed]",
      "text/plain": [
       "<Figure size 432x288 with 1 Axes>"
      ]
     },
     "metadata": {
      "needs_background": "light"
     },
     "output_type": "display_data"
    }
   ],
   "source": [
    "# alpha  = 0.03\n",
    "plot_h(w_optim_003,training_dataset)"
   ]
  },
  {
   "cell_type": "code",
   "execution_count": 204,
   "metadata": {},
   "outputs": [
    {
     "data": {
      "image/png": "[encoded data removed]",
      "text/plain": [
       "<Figure size 432x288 with 1 Axes>"
      ]
     },
     "metadata": {
      "needs_background": "light"
     },
     "output_type": "display_data"
    }
   ],
   "source": [
    "# Armijo step\n",
    "plot_h(w_optim_armijo,training_dataset)"
   ]
  },
  {
   "cell_type": "markdown",
   "metadata": {},
   "source": [
    "# Question7: Evaluation of our 4 models with the testing dataset and return the generalization error."
   ]
  },
  {
   "cell_type": "code",
   "execution_count": 226,
   "metadata": {},
   "outputs": [
    {
     "name": "stdout",
     "output_type": "stream",
     "text": [
      "MSE = 517459236468830.81\n",
      "MSE = 25606662554446804.00\n",
      "MSE = 890872929386979.88\n",
      "MSE = 10.23\n"
     ]
    }
   ],
   "source": [
    "# Calculation of the general error for our 4 models\n",
    "# the model with alpha = 0.01\n",
    "MSE_alpha001 = MSE(w_optim_001   , testing_dataset)\n",
    "print(\"MSE = {0:.2f}\".format(MSE_alpha001))\n",
    "# the model with alpha = 0.02\n",
    "MSE_alpha002 = MSE(w_optim_002   , testing_dataset)\n",
    "print(\"MSE = {0:.2f}\".format(MSE_alpha002))\n",
    "# the model with alpha = 0.03\n",
    "MSE_alpha003 = MSE(w_optim_003   , testing_dataset)\n",
    "print(\"MSE = {0:.2f}\".format(MSE_alpha003))\n",
    "# the model with armijo learning rate\n",
    "MSE_armijo   = MSE(w_optim_armijo, testing_dataset)\n",
    "print(\"MSE = {0:.2f}\".format(MSE_armijo))"
   ]
  },
  {
   "cell_type": "markdown",
   "metadata": {},
   "source": [
    "# Question8: Estimate generalization error (bias-variance) and interpret results"
   ]
  },
  {
   "cell_type": "markdown",
   "metadata": {},
   "source": [
    "Biais"
   ]
  },
  {
   "cell_type": "code",
   "execution_count": 250,
   "metadata": {},
   "outputs": [],
   "source": [
    "def bias(w,d_set):\n",
    "    Bias = 0\n",
    "    for i in range(len(d_set)):\n",
    "        Bias = Bias + pow(h(d_set['x'][i],w) - d_set['y'][i],2)\n",
    "    return np.sqrt(Bias)"
   ]
  },
  {
   "cell_type": "code",
   "execution_count": 252,
   "metadata": {},
   "outputs": [
    {
     "name": "stdout",
     "output_type": "stream",
     "text": [
      "model 1 Bias = 349260805.45\n",
      "model 2 Bias = 2456744913.65\n",
      "model 3 Bias = 458245687.92\n",
      "model 4 Bias = 52.40\n"
     ]
    }
   ],
   "source": [
    "print(\"model 1 Bias = {0:.2f}\".format(bias(w_optim_001,dataframe)))\n",
    "print(\"model 2 Bias = {0:.2f}\".format(bias(w_optim_002,dataframe)))\n",
    "print(\"model 3 Bias = {0:.2f}\".format(bias(w_optim_003,dataframe)))\n",
    "print(\"model 4 Bias = {0:.2f}\".format(bias(w_optim_armijo,dataframe)))"
   ]
  },
  {
   "cell_type": "markdown",
   "metadata": {},
   "source": [
    "Variance"
   ]
  },
  {
   "cell_type": "code",
   "execution_count": 253,
   "metadata": {},
   "outputs": [],
   "source": [
    "def variance(w,d_set):\n",
    "    mean_Ypred = 0\n",
    "    for i in range(len(d_set)):\n",
    "        mean_Ypred = mean_Ypred + h(d_set['x'][i],w)\n",
    "    mean_Ypred = mean_Ypred/len(d_set)\n",
    "    \n",
    "    Var = 0\n",
    "    for i in range(len(d_set)):\n",
    "        Var = Var + pow(h(d_set['x'][i],w) - mean_Ypred,2)\n",
    "    return Var/len(d_set)"
   ]
  },
  {
   "cell_type": "code",
   "execution_count": 254,
   "metadata": {},
   "outputs": [
    {
     "name": "stdout",
     "output_type": "stream",
     "text": [
      "model 1 Variance = 107867028291376.53\n",
      "model 2 Variance = 5318034188001387.00\n",
      "model 3 Variance = 185187000385875.69\n",
      "model 4 Variance = 183.81\n"
     ]
    }
   ],
   "source": [
    "print(\"model 1 Variance = {0:.2f}\".format(variance(w_optim_001,dataframe)))\n",
    "print(\"model 2 Variance = {0:.2f}\".format(variance(w_optim_002,dataframe)))\n",
    "print(\"model 3 Variance = {0:.2f}\".format(variance(w_optim_003,dataframe)))\n",
    "print(\"model 4 Variance = {0:.2f}\".format(variance(w_optim_armijo,dataframe)))"
   ]
  },
  {
   "cell_type": "code",
   "execution_count": null,
   "metadata": {},
   "outputs": [],
   "source": []
  },
  {
   "cell_type": "code",
   "execution_count": null,
   "metadata": {},
   "outputs": [],
   "source": []
  },
  {
   "cell_type": "code",
   "execution_count": null,
   "metadata": {},
   "outputs": [],
   "source": []
  },
  {
   "cell_type": "code",
   "execution_count": null,
   "metadata": {},
   "outputs": [],
   "source": []
  },
  {
   "cell_type": "code",
   "execution_count": null,
   "metadata": {},
   "outputs": [],
   "source": []
  }
 ],
 "metadata": {
  "kernelspec": {
   "display_name": "Python 3",
   "language": "python",
   "name": "python3"
  },
  "language_info": {
   "codemirror_mode": {
    "name": "ipython",
    "version": 3
   },
   "file_extension": ".py",
   "mimetype": "text/x-python",
   "name": "python",
   "nbconvert_exporter": "python",
   "pygments_lexer": "ipython3",
   "version": "3.8.5"
  }
 },
 "nbformat": 4,
 "nbformat_minor": 4
}
