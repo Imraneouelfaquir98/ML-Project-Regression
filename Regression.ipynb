{
 "cells": [
  {
   "cell_type": "markdown",
   "metadata": {},
   "source": [
    "# Machine learning Project of Regression"
   ]
  },
  {
   "cell_type": "markdown",
   "metadata": {},
   "source": [
    "# Part 1:"
   ]
  },
  {
   "cell_type": "code",
   "execution_count": 135,
   "metadata": {},
   "outputs": [],
   "source": [
    "import pandas as pd\n",
    "import numpy as np\n",
    "import matplotlib.pyplot as plt\n",
    "import csv"
   ]
  },
  {
   "cell_type": "markdown",
   "metadata": {},
   "source": [
    "# Loading and splitting Dataset "
   ]
  },
  {
   "cell_type": "code",
   "execution_count": 136,
   "metadata": {},
   "outputs": [],
   "source": [
    "# Loading Dataset\n",
    "url = \"Part1_data12.csv\"\n",
    "dataset = pd.read_csv(url)"
   ]
  },
  {
   "cell_type": "code",
   "execution_count": 137,
   "metadata": {},
   "outputs": [
    {
     "name": "stdout",
     "output_type": "stream",
     "text": [
      "Dimension = 220*2\n"
     ]
    }
   ],
   "source": [
    "#Shape : Dimensions of the dataset\n",
    "print(\"Dimension = {0:d}*{1:d}\".format(dataset.shape[0],dataset.shape[1]))"
   ]
  },
  {
   "cell_type": "markdown",
   "metadata": {},
   "source": [
    "# Randomly mix the dataset by the function simple"
   ]
  },
  {
   "cell_type": "code",
   "execution_count": 138,
   "metadata": {},
   "outputs": [],
   "source": [
    "dataframe = pd.DataFrame(dataset)\n",
    "dataframe_mixed = dataframe.sample(frac=1)\n",
    "# dataframe_mixed"
   ]
  },
  {
   "cell_type": "markdown",
   "metadata": {},
   "source": [
    "# We take 30% as a training data and 70% as a testing data"
   ]
  },
  {
   "cell_type": "code",
   "execution_count": 139,
   "metadata": {},
   "outputs": [],
   "source": [
    "training_dataset = dataframe_mixed[:int(len(dataframe)*0.3)]\n",
    "# training_dataset\n",
    "\n",
    "testing_dataset  = dataframe_mixed[int(len(dataframe)*0.3):len(dataframe)]\n",
    "# testing_dataset"
   ]
  },
  {
   "cell_type": "code",
   "execution_count": 140,
   "metadata": {},
   "outputs": [],
   "source": [
    "# Saving training and testing dataset to a cqsv files\n",
    "training_dataset.to_csv(r'training_dataset.csv', index=False, header=True)\n",
    "testing_dataset.to_csv(r'testing_dataset.csv'  , index=False, header=True)"
   ]
  },
  {
   "cell_type": "markdown",
   "metadata": {},
   "source": [
    "# Question 1 Read and visualize the given data."
   ]
  },
  {
   "cell_type": "code",
   "execution_count": 141,
   "metadata": {},
   "outputs": [],
   "source": [
    "training_dataset_url = \"training_dataset.csv\"\n",
    "testing_dataset_url  = \"testing_dataset.csv\"\n",
    "\n",
    "training_dataset = pd.read_csv(training_dataset_url)\n",
    "testing_dataset  = pd.read_csv(testing_dataset_url)"
   ]
  },
  {
   "cell_type": "code",
   "execution_count": 142,
   "metadata": {},
   "outputs": [],
   "source": [
    "# training_dataset"
   ]
  },
  {
   "cell_type": "code",
   "execution_count": 143,
   "metadata": {},
   "outputs": [],
   "source": [
    "# testing_dataset "
   ]
  },
  {
   "cell_type": "markdown",
   "metadata": {},
   "source": [
    "# 1.4 Give the mean/median/min/max"
   ]
  },
  {
   "cell_type": "code",
   "execution_count": 144,
   "metadata": {},
   "outputs": [
    {
     "name": "stdout",
     "output_type": "stream",
     "text": [
      "mean(x) = 12.00\n",
      "median(x) = 12.00\n",
      "max(x) = 23.00\n",
      "min(x) = 2.00\n"
     ]
    }
   ],
   "source": [
    "# Calculation of the mean of x\n",
    "print(\"mean(x) = {:.2f}\".format(int(pd.DataFrame(testing_dataset['x']).mean())))\n",
    "\n",
    "# Calculation of the median of x\n",
    "print(\"median(x) = {:.2f}\".format(int(pd.DataFrame(testing_dataset['x']).median())))\n",
    "\n",
    "# Calculation of the max of x\n",
    "print(\"max(x) = {:.2f}\".format(int(pd.DataFrame(testing_dataset['x']).max())))\n",
    "\n",
    "# Calculation of the min of x\n",
    "print(\"min(x) = {:.2f}\".format(int(pd.DataFrame(testing_dataset['x']).min())))"
   ]
  },
  {
   "cell_type": "markdown",
   "metadata": {},
   "source": [
    "# Question2: Use scatter plot to represent your training dataset."
   ]
  },
  {
   "cell_type": "code",
   "execution_count": 145,
   "metadata": {},
   "outputs": [
    {
     "data": {
      "text/plain": [
       "<matplotlib.collections.PathCollection at 0x7feae7f57100>"
      ]
     },
     "execution_count": 145,
     "metadata": {},
     "output_type": "execute_result"
    },
    {
     "data": {
      "image/png": "[encoded data removed]",
      "text/plain": [
       "<Figure size 432x288 with 1 Axes>"
      ]
     },
     "metadata": {
      "needs_background": "light"
     },
     "output_type": "display_data"
    }
   ],
   "source": [
    "# Plotting the training dataset\n",
    "plt.scatter(training_dataset['x'], training_dataset['y'], c = 'red', marker = '*')"
   ]
  },
  {
   "cell_type": "code",
   "execution_count": 146,
   "metadata": {},
   "outputs": [],
   "source": [
    "# Plotting the training dataset with hypotesis function\n",
    "def plot_h(w):\n",
    "    data = pd.DataFrame(trainig_dataset['x'])\n",
    "    plt.scatter(training_dataset['x'], training_dataset['y'], c = 'red', marker = '*')\n",
    "    plt.plot([data.min(),data.max()],[h(data.min(),w),h(data.max(),w)], linewidth=4)"
   ]
  },
  {
   "cell_type": "markdown",
   "metadata": {},
   "source": [
    "# Question5:"
   ]
  },
  {
   "cell_type": "markdown",
   "metadata": {},
   "source": [
    "# The hypothesis function. "
   ]
  },
  {
   "cell_type": "code",
   "execution_count": 12,
   "metadata": {},
   "outputs": [],
   "source": [
    "# The hypothesis function. \n",
    "def h(x,w):\n",
    "    return w[1]*x + w[0]"
   ]
  },
  {
   "cell_type": "markdown",
   "metadata": {},
   "source": [
    "# The empirical error"
   ]
  },
  {
   "cell_type": "markdown",
   "metadata": {},
   "source": [
    "# Mean Squared Error(MSE)"
   ]
  },
  {
   "cell_type": "code",
   "execution_count": 13,
   "metadata": {},
   "outputs": [],
   "source": [
    "# The empirical error MSE\n",
    "def MSE(w):\n",
    "    MSE = 0\n",
    "    for i in range(len(training_dataset)):\n",
    "        MSE = MSE + pow((training_dataset['y'][i] - h(training_dataset['x'][i],w)),2)\n",
    "    return MSE/len(training_dataset)"
   ]
  },
  {
   "cell_type": "markdown",
   "metadata": {},
   "source": [
    "# Root-Mean-Squared-Error(RMSE)."
   ]
  },
  {
   "cell_type": "code",
   "execution_count": 15,
   "metadata": {},
   "outputs": [],
   "source": [
    "# The empirical error RMSE\n",
    "def RMSE(w):\n",
    "    return np.sqrt(MSE(w))"
   ]
  },
  {
   "cell_type": "markdown",
   "metadata": {},
   "source": [
    "# Mean-Absolute-Error(MAE)."
   ]
  },
  {
   "cell_type": "code",
   "execution_count": 52,
   "metadata": {},
   "outputs": [],
   "source": [
    "# The empirical error MAE\n",
    "def MAE(w):\n",
    "    MAE = float(0)\n",
    "    for i in range(len(training_dataset)):\n",
    "        MAE = MAE + np.abs((training_dataset['y'][i] - h(training_dataset['x'][i],w)))\n",
    "    return MAE/len(training_dataset)"
   ]
  },
  {
   "cell_type": "code",
   "execution_count": 116,
   "metadata": {},
   "outputs": [],
   "source": [
    "# Calculation of the gradient\n",
    "def gradient(w, empiricalError = MSE):\n",
    "    grad = []\n",
    "    wi = [0.0000, 0.0000]\n",
    "    for i in range(2):\n",
    "        for k in range(2):\n",
    "            wi[k] = w[k]\n",
    "        wi[i] = wi[i] + 1e-10\n",
    "        grad.append((empiricalError(wi) - empiricalError(w))/1e-10)\n",
    "    return grad"
   ]
  },
  {
   "cell_type": "markdown",
   "metadata": {},
   "source": [
    "# Calculation of step Armijo"
   ]
  },
  {
   "cell_type": "code",
   "execution_count": 117,
   "metadata": {},
   "outputs": [],
   "source": [
    "# Calculation of the step Armijo\n",
    "def armijo(wk, dk, empiricalError = MSE):\n",
    "    alpha = 1\n",
    "    X = 0.25*alpha*np.matmul(gradient(wk,empiricalError), dk)\n",
    "    while empiricalError(np.add(wk, np.multiply(alpha,dk))) - empiricalError(wk) > X:\n",
    "        alpha = alpha/2\n",
    "        X = 0.25*alpha*np.matmul(gradient(wk,empiricalError), dk)\n",
    "    return alpha"
   ]
  },
  {
   "cell_type": "markdown",
   "metadata": {},
   "source": [
    "# Gradient Descent Method"
   ]
  },
  {
   "cell_type": "code",
   "execution_count": 118,
   "metadata": {},
   "outputs": [],
   "source": [
    "# Gradient descent method\n",
    "def gradientDescent(delta, wk, empiricalError = MSE):\n",
    "    gk = np.multiply(-1,gradient(wk))\n",
    "    alpha = 0\n",
    "    k = 0\n",
    "    while k<10:\n",
    "        alpha = armijo(wk,gk, empiricalError)\n",
    "        wk = np.add(wk, np.multiply(alpha,gk))\n",
    "        gk = np.multiply(-1,gradient(wk, empiricalError))\n",
    "        k = k+1\n",
    "    return wk\n",
    "# print(\"{0:d}- Ls = {1:.2f}\".format(int(k),float(empiricalError(wk))))"
   ]
  },
  {
   "cell_type": "code",
   "execution_count": 134,
   "metadata": {},
   "outputs": [
    {
     "name": "stdout",
     "output_type": "stream",
     "text": [
      "w* = [1.07, 2.14], Emp_Error = 2.81 \n",
      "w* = [1.09, 2.12], Emp_Error = 12.69 \n",
      "w* = [1.09, 2.12], Emp_Error = 12.68 \n"
     ]
    }
   ],
   "source": [
    "# Calculation of the regression model for each empirical error\n",
    "w_optim_MAE  = gradientDescent(0.1, [1,1],  MAE) # MAE\n",
    "print(\"w* = [{0:.2f}, {1:.2f}], Emp_Error = {2:.2f} \".format(w_optim_MAE[0],w_optim_MAE[1],MAE(w_optim_MAE)))\n",
    "w_optim_MSE  = gradientDescent(0.1, [1,1],  MSE) # MSE\n",
    "print(\"w* = [{0:.2f}, {1:.2f}], Emp_Error = {2:.2f} \".format(w_optim_MSE[0],w_optim_MSE[1],MSE(w_optim_MSE)))\n",
    "w_optim_RMSE = gradientDescent(0.1, [1,1], RMSE) # RMSE\n",
    "print(\"w* = [{0:.2f}, {1:.2f}], Emp_Error = {2:.2f} \".format(w_optim_RMSE[0],w_optim_RMSE[1],MSE(w_optim_RMSE)))"
   ]
  },
  {
   "cell_type": "code",
   "execution_count": 123,
   "metadata": {},
   "outputs": [
    {
     "name": "stdout",
     "output_type": "stream",
     "text": [
      "[1.07136247 2.13582877]\n"
     ]
    },
    {
     "data": {
      "image/png": "[encoded data removed]",
      "text/plain": [
       "<Figure size 432x288 with 1 Axes>"
      ]
     },
     "metadata": {
      "needs_background": "light"
     },
     "output_type": "display_data"
    }
   ],
   "source": [
    "# MAE\n",
    "plot_h(w_optim_MAE)"
   ]
  },
  {
   "cell_type": "code",
   "execution_count": 124,
   "metadata": {},
   "outputs": [
    {
     "name": "stdout",
     "output_type": "stream",
     "text": [
      "[1.08903961 2.12247642]\n"
     ]
    },
    {
     "data": {
      "image/png": "[encoded data removed]",
      "text/plain": [
       "<Figure size 432x288 with 1 Axes>"
      ]
     },
     "metadata": {
      "needs_background": "light"
     },
     "output_type": "display_data"
    }
   ],
   "source": [
    "# MSE\n",
    "plot_h(w_optim_MSE)"
   ]
  },
  {
   "cell_type": "code",
   "execution_count": 127,
   "metadata": {},
   "outputs": [
    {
     "name": "stdout",
     "output_type": "stream",
     "text": [
      "[1.08971393 2.12445574]\n"
     ]
    },
    {
     "data": {
      "image/png": "[encoded data removed]",
      "text/plain": [
       "<Figure size 432x288 with 1 Axes>"
      ]
     },
     "metadata": {
      "needs_background": "light"
     },
     "output_type": "display_data"
    }
   ],
   "source": [
    "# RMSE\n",
    "plot_h(w_optim_RMSE)"
   ]
  },
  {
   "cell_type": "code",
   "execution_count": null,
   "metadata": {},
   "outputs": [],
   "source": []
  }
 ],
 "metadata": {
  "kernelspec": {
   "display_name": "Python 3",
   "language": "python",
   "name": "python3"
  },
  "language_info": {
   "codemirror_mode": {
    "name": "ipython",
    "version": 3
   },
   "file_extension": ".py",
   "mimetype": "text/x-python",
   "name": "python",
   "nbconvert_exporter": "python",
   "pygments_lexer": "ipython3",
   "version": "3.8.5"
  }
 },
 "nbformat": 4,
 "nbformat_minor": 4
}
